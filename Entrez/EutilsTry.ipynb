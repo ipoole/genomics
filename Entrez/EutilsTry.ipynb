{
 "cells": [
  {
   "cell_type": "markdown",
   "metadata": {},
   "source": [
    "## Playing with the 'eutils'\n",
    "See [Eutils on PyPu](https://pypi.org/project/eutils/)\n",
    "\n",
    "It's not yet clear to me the relative merits between [eutils](https://pypi.org/project/eutils/) and [Biopython.Entrez](https://biopython.org/DIST/docs/api/Bio.Entrez-module.html). \n",
    "One advantage of etils seems to be caching requrests."
   ]
  },
  {
   "cell_type": "code",
   "execution_count": 1,
   "metadata": {},
   "outputs": [],
   "source": [
    "import os\n",
    "import eutils"
   ]
  },
  {
   "cell_type": "code",
   "execution_count": 2,
   "metadata": {},
   "outputs": [],
   "source": [
    "os.environ['NCBI_API_KEY'] = '1dfc9b8cead3b15249f3b59c933ab702b109'"
   ]
  },
  {
   "cell_type": "code",
   "execution_count": 3,
   "metadata": {},
   "outputs": [
    {
     "name": "stdout",
     "output_type": "stream",
     "text": [
      "1dfc9b8cead3b15249f3b59c933ab702b109\n"
     ]
    }
   ],
   "source": [
    "print(os.environ['NCBI_API_KEY'])"
   ]
  },
  {
   "cell_type": "code",
   "execution_count": null,
   "metadata": {},
   "outputs": [],
   "source": []
  },
  {
   "cell_type": "code",
   "execution_count": 4,
   "metadata": {},
   "outputs": [],
   "source": [
    "# Initialize a client. This client handles all caching and query\n",
    "# throttling.  For example:\n",
    "ec = eutils.Client(api_key=os.environ.get(\"NCBI_API_KEY\", None), cache=True)"
   ]
  },
  {
   "cell_type": "code",
   "execution_count": 5,
   "metadata": {},
   "outputs": [],
   "source": [
    "esr = ec.efetch(db='gene', id=7124)"
   ]
  },
  {
   "cell_type": "code",
   "execution_count": 6,
   "metadata": {},
   "outputs": [
    {
     "data": {
      "text/plain": [
       "['_root_tag',\n",
       " '_xml_root',\n",
       " 'common_tax',\n",
       " 'description',\n",
       " 'gene_commentaries',\n",
       " 'gene_id',\n",
       " 'genus_species',\n",
       " 'hgnc',\n",
       " 'locus',\n",
       " 'maploc',\n",
       " 'references',\n",
       " 'summary',\n",
       " 'synonyms',\n",
       " 'tax_id',\n",
       " 'type']"
      ]
     },
     "execution_count": 6,
     "metadata": {},
     "output_type": "execute_result"
    }
   ],
   "source": [
    "[method for method in dir(esr.entrezgenes[0]) if '__' not in method]"
   ]
  },
  {
   "cell_type": "code",
   "execution_count": 7,
   "metadata": {},
   "outputs": [],
   "source": [
    "eg = esr.entrezgenes[0]"
   ]
  },
  {
   "cell_type": "code",
   "execution_count": 8,
   "metadata": {},
   "outputs": [
    {
     "data": {
      "text/plain": [
       "[<eutils.xmlfacades.genecommentary.GeneCommentary at 0x7efc3466aa90>,\n",
       " <eutils.xmlfacades.genecommentary.GeneCommentary at 0x7efc346cf358>,\n",
       " <eutils.xmlfacades.genecommentary.GeneCommentary at 0x7efc346cf3c8>,\n",
       " <eutils.xmlfacades.genecommentary.GeneCommentary at 0x7efc341b7358>,\n",
       " <eutils.xmlfacades.genecommentary.GeneCommentary at 0x7efc1ed03f28>,\n",
       " <eutils.xmlfacades.genecommentary.GeneCommentary at 0x7efc1ed03a58>,\n",
       " <eutils.xmlfacades.genecommentary.GeneCommentary at 0x7efc1ed03b38>,\n",
       " <eutils.xmlfacades.genecommentary.GeneCommentary at 0x7efc1ed039e8>,\n",
       " <eutils.xmlfacades.genecommentary.GeneCommentary at 0x7efc1ed03b70>]"
      ]
     },
     "execution_count": 8,
     "metadata": {},
     "output_type": "execute_result"
    }
   ],
   "source": [
    "eg.references"
   ]
  },
  {
   "cell_type": "code",
   "execution_count": 9,
   "metadata": {},
   "outputs": [
    {
     "data": {
      "text/plain": [
       "('TNF', '6p21.33', 'tumor necrosis factor', 'protein-coding', 'Homo sapiens')"
      ]
     },
     "execution_count": 9,
     "metadata": {},
     "output_type": "execute_result"
    }
   ],
   "source": [
    "# fetch one of those \n",
    "egs = ec.efetch(db='gene', id=7124)\n",
    "\n",
    "# One may fetch multiple genes at a time. These are returned as an\n",
    "# EntrezgeneSet. We'll grab the first child, which returns\n",
    "# an instance of the Entrezgene class.\n",
    "eg = egs.entrezgenes[0]\n",
    "\n",
    "# Easily access some basic information about the gene\n",
    "eg.hgnc, eg.maploc, eg.description, eg.type, eg.genus_species"
   ]
  },
  {
   "cell_type": "code",
   "execution_count": 10,
   "metadata": {},
   "outputs": [
    {
     "data": {
      "text/plain": [
       "[('NC_000006.12', 'Chromosome 6 Reference GRCh38.p12 Primary Assembly'),\n",
       " ('NG_007462.1', 'RefSeqGene'),\n",
       " ('NT_113891.3', 'Chromosome 6 Reference GRCh38.p12 ALT_REF_LOCI_2'),\n",
       " ('NT_167244.2', 'Chromosome 6 Reference GRCh38.p12 ALT_REF_LOCI_1'),\n",
       " ('NT_167245.2', 'Chromosome 6 Reference GRCh38.p12 ALT_REF_LOCI_3'),\n",
       " ('NT_167246.2', 'Chromosome 6 Reference GRCh38.p12 ALT_REF_LOCI_4'),\n",
       " ('NT_167247.2', 'Chromosome 6 Reference GRCh38.p12 ALT_REF_LOCI_5'),\n",
       " ('NT_167248.2', 'Chromosome 6 Reference GRCh38.p12 ALT_REF_LOCI_6'),\n",
       " ('NT_167249.2', 'Chromosome 6 Reference GRCh38.p12 ALT_REF_LOCI_7')]"
      ]
     },
     "execution_count": 10,
     "metadata": {},
     "output_type": "execute_result"
    }
   ],
   "source": [
    "# get a list of genomic references\n",
    "sorted([(r.acv, r.label) for r in eg.references])"
   ]
  },
  {
   "cell_type": "code",
   "execution_count": 11,
   "metadata": {},
   "outputs": [
    {
     "data": {
      "text/plain": [
       "'GeneCommentary(acv=NM_000594.3,type=mRNA,heading=Reference,label=None)'"
      ]
     },
     "execution_count": 11,
     "metadata": {},
     "output_type": "execute_result"
    }
   ],
   "source": [
    "# Get the first three products defined on GRCh38\n",
    "#>>> [p.acv for p in eg.references[0].products][:3]\n",
    "#['NM_001126112.2', 'NM_001276761.1', 'NM_000546.5']\n",
    "\n",
    "# As a sample, grab the first product defined on this reference (order is arbitrary)\n",
    "mrna = eg.references[0].products[0]\n",
    "str(mrna)"
   ]
  },
  {
   "cell_type": "code",
   "execution_count": 12,
   "metadata": {},
   "outputs": [
    {
     "data": {
      "text/plain": [
       "('568815592', 1)"
      ]
     },
     "execution_count": 12,
     "metadata": {},
     "output_type": "execute_result"
    }
   ],
   "source": [
    "# mrna.genomic_coords provides access to the exon definitions on this reference\n",
    "\n",
    "mrna.genomic_coords.gi, mrna.genomic_coords.strand"
   ]
  },
  {
   "cell_type": "code",
   "execution_count": 13,
   "metadata": {},
   "outputs": [
    {
     "data": {
      "text/plain": [
       "[(31575566, 31575926),\n",
       " (31576533, 31576578),\n",
       " (31576766, 31576813),\n",
       " (31577115, 31578335)]"
      ]
     },
     "execution_count": 13,
     "metadata": {},
     "output_type": "execute_result"
    }
   ],
   "source": [
    "mrna.genomic_coords.intervals"
   ]
  },
  {
   "cell_type": "code",
   "execution_count": 14,
   "metadata": {},
   "outputs": [
    {
     "data": {
      "text/plain": [
       "'GeneCommentary(acv=NP_000585.2,type=peptide,heading=Reference,label=None)'"
      ]
     },
     "execution_count": 14,
     "metadata": {},
     "output_type": "execute_result"
    }
   ],
   "source": [
    "# and the mrna has a product, the resulting protein:\n",
    "str(mrna.products[0])"
   ]
  },
  {
   "cell_type": "code",
   "execution_count": null,
   "metadata": {},
   "outputs": [],
   "source": []
  }
 ],
 "metadata": {
  "kernelspec": {
   "display_name": "biopython",
   "language": "python",
   "name": "biopython"
  },
  "language_info": {
   "codemirror_mode": {
    "name": "ipython",
    "version": 3
   },
   "file_extension": ".py",
   "mimetype": "text/x-python",
   "name": "python",
   "nbconvert_exporter": "python",
   "pygments_lexer": "ipython3",
   "version": "3.6.5"
  }
 },
 "nbformat": 4,
 "nbformat_minor": 2
}
