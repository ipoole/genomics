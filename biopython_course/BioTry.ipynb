{
 "cells": [
  {
   "cell_type": "code",
   "execution_count": 1,
   "metadata": {},
   "outputs": [],
   "source": [
    "from Bio import Entrez"
   ]
  },
  {
   "cell_type": "code",
   "execution_count": 2,
   "metadata": {},
   "outputs": [
    {
     "name": "stdout",
     "output_type": "stream",
     "text": [
      "DictElement({'DbList': ['pubmed', 'protein', 'nuccore', 'ipg', 'nucleotide', 'nucgss', 'nucest', 'structure', 'sparcle', 'genome', 'annotinfo', 'assembly', 'bioproject', 'biosample', 'blastdbinfo', 'books', 'cdd', 'clinvar', 'clone', 'gap', 'gapplus', 'grasp', 'dbvar', 'gene', 'gds', 'geoprofiles', 'homologene', 'medgen', 'mesh', 'ncbisearch', 'nlmcatalog', 'omim', 'orgtrack', 'pmc', 'popset', 'probe', 'proteinclusters', 'pcassay', 'biosystems', 'pccompound', 'pcsubstance', 'seqannot', 'snp', 'sra', 'taxonomy', 'biocollections', 'unigene', 'gencoll', 'gtr']}, attributes={})\n"
     ]
    }
   ],
   "source": [
    "Entrez.email=\"ipoole@icloud.com\"\n",
    "handle = Entrez.einfo()\n",
    "record = Entrez.read(handle)\n",
    "print(record)\n",
    "handle.close()"
   ]
  },
  {
   "cell_type": "code",
   "execution_count": 3,
   "metadata": {},
   "outputs": [
    {
     "name": "stdout",
     "output_type": "stream",
     "text": [
      "DictElement({'Count': '6912174', 'RetMax': '20', 'RetStart': '0', 'IdList': ['1561507252', '1561507202', '1561507201', '1561469492', '1561461552', '1561460412', '1561448773', '1561446569', '1561442081', '1561431540', '1561429951', '1561427652', '1561422812', '1561399243', '1561398632', '1561388782', '1561368798', '1561368570', '1561368569', '1561360670'], 'TranslationSet': [DictElement({'From': 'mouse[orgn]', 'To': '\"Mus\"[Organism] OR \"Mus musculus\"[Organism]'}, attributes={})], 'TranslationStack': [DictElement({'Term': '\"Mus\"[Organism]', 'Field': 'Organism', 'Count': '6912174', 'Explode': 'Y'}, attributes={}), DictElement({'Term': '\"Mus musculus\"[Organism]', 'Field': 'Organism', 'Count': '6809715', 'Explode': 'Y'}, attributes={}), 'OR', 'GROUP'], 'QueryTranslation': '\"Mus\"[Organism] OR \"Mus musculus\"[Organism]'}, attributes={})\n"
     ]
    }
   ],
   "source": [
    "handle = Entrez.esearch(db='nuccore', term='mouse[orgn]')\n",
    "record = Entrez.read(handle)\n",
    "print(record)\n",
    "handle.close()"
   ]
  },
  {
   "cell_type": "code",
   "execution_count": 4,
   "metadata": {},
   "outputs": [],
   "source": [
    "import requests\n",
    "import requests_cache\n",
    "requests_cache.install_cache(cache_name='bio_entrez_cache', backend='sqlite', expire_after=1800000)\n"
   ]
  },
  {
   "cell_type": "code",
   "execution_count": 5,
   "metadata": {},
   "outputs": [
    {
     "data": {
      "text/plain": [
       "'{\\n  \"args\": {}, \\n  \"data\": \"\", \\n  \"files\": {}, \\n  \"form\": {}, \\n  \"headers\": {\\n    \"Accept\": \"*/*\", \\n    \"Accept-Encoding\": \"gzip, deflate\", \\n    \"Connection\": \"close\", \\n    \"Host\": \"httpbin.org\", \\n    \"User-Agent\": \"python-requests/2.20.1\"\\n  }, \\n  \"origin\": \"82.37.174.182\", \\n  \"url\": \"http://httpbin.org/delay/6\"\\n}\\n'"
      ]
     },
     "execution_count": 5,
     "metadata": {},
     "output_type": "execute_result"
    }
   ],
   "source": [
    "url = 'https://eutils.ncbi.nlm.nih.gov/entrez/eutils/esearch.fcgi?db=nuccore&term=mouse[orgn]'\n",
    "delay = 'http://httpbin.org/delay/6'\n",
    "response = requests.get(delay)\n",
    "response.text"
   ]
  },
  {
   "cell_type": "code",
   "execution_count": 6,
   "metadata": {},
   "outputs": [
    {
     "data": {
      "text/plain": [
       "'<?xml version=\"1.0\" encoding=\"UTF-8\" ?>\\n<!DOCTYPE eSearchResult PUBLIC \"-//NLM//DTD esearch 20060628//EN\" \"https://eutils.ncbi.nlm.nih.gov/eutils/dtd/20060628/esearch.dtd\">\\n<eSearchResult><Count>6912174</Count><RetMax>20</RetMax><RetStart>0</RetStart><IdList>\\n<Id>1561507252</Id>\\n<Id>1561507202</Id>\\n<Id>1561507201</Id>\\n<Id>1561469492</Id>\\n<Id>1561461552</Id>\\n<Id>1561460412</Id>\\n<Id>1561448773</Id>\\n<Id>1561446569</Id>\\n<Id>1561442081</Id>\\n<Id>1561431540</Id>\\n<Id>1561429951</Id>\\n<Id>1561427652</Id>\\n<Id>1561422812</Id>\\n<Id>1561399243</Id>\\n<Id>1561398632</Id>\\n<Id>1561388782</Id>\\n<Id>1561368798</Id>\\n<Id>1561368570</Id>\\n<Id>1561368569</Id>\\n<Id>1561360670</Id>\\n</IdList><TranslationSet><Translation>     <From>mouse[orgn]</From>     <To>\"Mus\"[Organism] OR \"Mus musculus\"[Organism]</To>    </Translation></TranslationSet><TranslationStack>   <TermSet>    <Term>\"Mus\"[Organism]</Term>    <Field>Organism</Field>    <Count>6912174</Count>    <Explode>Y</Explode>   </TermSet>   <TermSet>    <Term>\"Mus musculus\"[Organism]</Term>    <Field>Organism</Field>    <Count>6809715</Count>    <Explode>Y</Explode>   </TermSet>   <OP>OR</OP>   <OP>GROUP</OP>  </TranslationStack><QueryTranslation>\"Mus\"[Organism] OR \"Mus musculus\"[Organism]</QueryTranslation></eSearchResult>\\n'"
      ]
     },
     "execution_count": 6,
     "metadata": {},
     "output_type": "execute_result"
    }
   ],
   "source": [
    "\n",
    "url = 'https://eutils.ncbi.nlm.nih.gov/entrez/eutils/esearch.fcgi?db=nuccore&term=mouse[orgn]'\n",
    "requests.get(url).text"
   ]
  },
  {
   "cell_type": "code",
   "execution_count": 7,
   "metadata": {},
   "outputs": [
    {
     "name": "stdout",
     "output_type": "stream",
     "text": [
      "DictElement({'Count': '6912174', 'RetMax': '20', 'RetStart': '0', 'IdList': ['1561507252', '1561507202', '1561507201', '1561469492', '1561461552', '1561460412', '1561448773', '1561446569', '1561442081', '1561431540', '1561429951', '1561427652', '1561422812', '1561399243', '1561398632', '1561388782', '1561368798', '1561368570', '1561368569', '1561360670'], 'TranslationSet': [DictElement({'From': 'mouse[orgn]', 'To': '\"Mus\"[Organism] OR \"Mus musculus\"[Organism]'}, attributes={})], 'TranslationStack': [DictElement({'Term': '\"Mus\"[Organism]', 'Field': 'Organism', 'Count': '6912174', 'Explode': 'Y'}, attributes={}), DictElement({'Term': '\"Mus musculus\"[Organism]', 'Field': 'Organism', 'Count': '6809715', 'Explode': 'Y'}, attributes={}), 'OR', 'GROUP'], 'QueryTranslation': '\"Mus\"[Organism] OR \"Mus musculus\"[Organism]'}, attributes={})\n"
     ]
    }
   ],
   "source": [
    "print(record)"
   ]
  },
  {
   "cell_type": "code",
   "execution_count": 8,
   "metadata": {},
   "outputs": [],
   "source": [
    "from Bio.Blast import NCBIWWW"
   ]
  },
  {
   "cell_type": "code",
   "execution_count": 9,
   "metadata": {},
   "outputs": [
    {
     "data": {
      "text/plain": [
       "['__add__',\n",
       " '__class__',\n",
       " '__contains__',\n",
       " '__delattr__',\n",
       " '__dir__',\n",
       " '__doc__',\n",
       " '__eq__',\n",
       " '__format__',\n",
       " '__ge__',\n",
       " '__getattribute__',\n",
       " '__getitem__',\n",
       " '__getnewargs__',\n",
       " '__gt__',\n",
       " '__hash__',\n",
       " '__init__',\n",
       " '__init_subclass__',\n",
       " '__iter__',\n",
       " '__le__',\n",
       " '__len__',\n",
       " '__lt__',\n",
       " '__mod__',\n",
       " '__mul__',\n",
       " '__ne__',\n",
       " '__new__',\n",
       " '__reduce__',\n",
       " '__reduce_ex__',\n",
       " '__repr__',\n",
       " '__rmod__',\n",
       " '__rmul__',\n",
       " '__setattr__',\n",
       " '__sizeof__',\n",
       " '__str__',\n",
       " '__subclasshook__',\n",
       " 'capitalize',\n",
       " 'casefold',\n",
       " 'center',\n",
       " 'count',\n",
       " 'encode',\n",
       " 'endswith',\n",
       " 'expandtabs',\n",
       " 'find',\n",
       " 'format',\n",
       " 'format_map',\n",
       " 'index',\n",
       " 'isalnum',\n",
       " 'isalpha',\n",
       " 'isdecimal',\n",
       " 'isdigit',\n",
       " 'isidentifier',\n",
       " 'islower',\n",
       " 'isnumeric',\n",
       " 'isprintable',\n",
       " 'isspace',\n",
       " 'istitle',\n",
       " 'isupper',\n",
       " 'join',\n",
       " 'ljust',\n",
       " 'lower',\n",
       " 'lstrip',\n",
       " 'maketrans',\n",
       " 'partition',\n",
       " 'replace',\n",
       " 'rfind',\n",
       " 'rindex',\n",
       " 'rjust',\n",
       " 'rpartition',\n",
       " 'rsplit',\n",
       " 'rstrip',\n",
       " 'split',\n",
       " 'splitlines',\n",
       " 'startswith',\n",
       " 'strip',\n",
       " 'swapcase',\n",
       " 'title',\n",
       " 'translate',\n",
       " 'upper',\n",
       " 'zfill']"
      ]
     },
     "execution_count": 9,
     "metadata": {},
     "output_type": "execute_result"
    }
   ],
   "source": [
    "dir('NCBIWWW')"
   ]
  },
  {
   "cell_type": "code",
   "execution_count": 10,
   "metadata": {},
   "outputs": [
    {
     "name": "stdout",
     "output_type": "stream",
     "text": [
      "TGGGCCTCATATTTATCCTATATACCATGTTCGTATGGTGGCGCGATGTTCTACGTGAATCCACGTTCGAAGGACATCATACCAAAGTCGTAC\n",
      "AATTAGGACCTCGATATGGTTTTATTCTGTTTATCGTATCGGAGGTTATGTTCTTTTTTGCTCTTTTTCGGGCTTCTTCTCATTCTTCTTTGGCAC\n",
      "CTACGGTAGAG\n"
     ]
    }
   ],
   "source": [
    "fasta_string = open(\"quiz_sequence.txt\").read()\n",
    "print(fasta_string)"
   ]
  },
  {
   "cell_type": "code",
   "execution_count": 11,
   "metadata": {},
   "outputs": [
    {
     "name": "stdout",
     "output_type": "stream",
     "text": [
      "Starting BLAST...\n",
      "Done.\n"
     ]
    }
   ],
   "source": [
    "print(\"Starting BLAST...\")\n",
    "result_handle = NCBIWWW.qblast(\"blastn\", \"nt\", fasta_string)\n",
    "print(\"Done.\")"
   ]
  },
  {
   "cell_type": "code",
   "execution_count": 12,
   "metadata": {},
   "outputs": [],
   "source": [
    "from Bio.Blast import NCBIXML\n",
    "blast_record = NCBIXML.read(result_handle)"
   ]
  },
  {
   "cell_type": "code",
   "execution_count": 13,
   "metadata": {},
   "outputs": [
    {
     "data": {
      "text/plain": [
       "50"
      ]
     },
     "execution_count": 13,
     "metadata": {},
     "output_type": "execute_result"
    }
   ],
   "source": [
    "len(blast_record.alignments)"
   ]
  },
  {
   "cell_type": "code",
   "execution_count": 14,
   "metadata": {},
   "outputs": [
    {
     "name": "stdout",
     "output_type": "stream",
     "text": [
      "***** ALIGNMENT *****\n",
      "** Alignment HSP **\n",
      "sequence: gi|1241191387|gb|MF579563.1| Nicotiana attenuata mitochondrion, complete genome\n",
      "length: 394341\n",
      "e_value: 3.41266e-96\n",
      "TGGGCCTCATATTTATCCTATATACCATGTTCGTATGGTGGCGCGATGTTCTACGTGAATCCACGTTCGAAGGACATCATACCAAAGTCGTACAATTAGGACCTCGATATGGTTTTATTCTGTTTATCGTATCGGAGGTTATGTTCTTTTTTGCTCTTTTTCGGGCTTCTTCTCATTCTTCTTTGGCACCTACGGTAGAG\n",
      "||||||||||||||||||||||||||||||||||||||||||||||||||||||||||||||||||||||||||||||||||||||||||||||||||||||||||||||||||||||||||||||||||||||||||||||||||||||||||||||||||||||||||||||||||||||||||||||||||||||||\n",
      "TGGGCCTCATATTTATCCTATATACCATGTTCGTATGGTGGCGCGATGTTCTACGTGAATCCACGTTCGAAGGACATCATACCAAAGTCGTACAATTAGGACCTCGATATGGTTTTATTCTGTTTATCGTATCGGAGGTTATGTTCTTTTTTGCTCTTTTTCGGGCTTCTTCTCATTCTTCTTTGGCACCTACGGTAGAG\n",
      "***** ALIGNMENT *****\n",
      "** Alignment HSP **\n",
      "sequence: gi|1008910429|gb|KT997964.1| Nicotiana sylvestris cultivar TW 137 mitochondrion, complete genome\n",
      "length: 430597\n",
      "e_value: 3.41266e-96\n",
      "TGGGCCTCATATTTATCCTATATACCATGTTCGTATGGTGGCGCGATGTTCTACGTGAATCCACGTTCGAAGGACATCATACCAAAGTCGTACAATTAGGACCTCGATATGGTTTTATTCTGTTTATCGTATCGGAGGTTATGTTCTTTTTTGCTCTTTTTCGGGCTTCTTCTCATTCTTCTTTGGCACCTACGGTAGAG\n",
      "||||||||||||||||||||||||||||||||||||||||||||||||||||||||||||||||||||||||||||||||||||||||||||||||||||||||||||||||||||||||||||||||||||||||||||||||||||||||||||||||||||||||||||||||||||||||||||||||||||||||\n",
      "TGGGCCTCATATTTATCCTATATACCATGTTCGTATGGTGGCGCGATGTTCTACGTGAATCCACGTTCGAAGGACATCATACCAAAGTCGTACAATTAGGACCTCGATATGGTTTTATTCTGTTTATCGTATCGGAGGTTATGTTCTTTTTTGCTCTTTTTCGGGCTTCTTCTCATTCTTCTTTGGCACCTACGGTAGAG\n",
      "***** ALIGNMENT *****\n",
      "** Alignment HSP **\n",
      "sequence: gi|927029471|gb|KR780036.1| Nicotiana tabacum cultivar zhongyan 100 mitochondrion, complete genome\n",
      "length: 430863\n",
      "e_value: 3.41266e-96\n",
      "TGGGCCTCATATTTATCCTATATACCATGTTCGTATGGTGGCGCGATGTTCTACGTGAATCCACGTTCGAAGGACATCATACCAAAGTCGTACAATTAGGACCTCGATATGGTTTTATTCTGTTTATCGTATCGGAGGTTATGTTCTTTTTTGCTCTTTTTCGGGCTTCTTCTCATTCTTCTTTGGCACCTACGGTAGAG\n",
      "||||||||||||||||||||||||||||||||||||||||||||||||||||||||||||||||||||||||||||||||||||||||||||||||||||||||||||||||||||||||||||||||||||||||||||||||||||||||||||||||||||||||||||||||||||||||||||||||||||||||\n",
      "TGGGCCTCATATTTATCCTATATACCATGTTCGTATGGTGGCGCGATGTTCTACGTGAATCCACGTTCGAAGGACATCATACCAAAGTCGTACAATTAGGACCTCGATATGGTTTTATTCTGTTTATCGTATCGGAGGTTATGTTCTTTTTTGCTCTTTTTCGGGCTTCTTCTCATTCTTCTTTGGCACCTACGGTAGAG\n",
      "***** ALIGNMENT *****\n",
      "** Alignment HSP **\n",
      "sequence: gi|916446276|gb|KT179379.1| Evolvulus nuttallianus voucher Aust 160 cytochrome c oxidase subunit 3 (coxIII) gene, complete cds; mitochondrial\n",
      "length: 798\n",
      "e_value: 3.41266e-96\n",
      "TGGGCCTCATATTTATCCTATATACCATGTTCGTATGGTGGCGCGATGTTCTACGTGAATCCACGTTCGAAGGACATCATACCAAAGTCGTACAATTAGGACCTCGATATGGTTTTATTCTGTTTATCGTATCGGAGGTTATGTTCTTTTTTGCTCTTTTTCGGGCTTCTTCTCATTCTTCTTTGGCACCTACGGTAGAG\n",
      "||||||||||||||||||||||||||||||||||||||||||||||||||||||||||||||||||||||||||||||||||||||||||||||||||||||||||||||||||||||||||||||||||||||||||||||||||||||||||||||||||||||||||||||||||||||||||||||||||||||||\n",
      "TGGGCCTCATATTTATCCTATATACCATGTTCGTATGGTGGCGCGATGTTCTACGTGAATCCACGTTCGAAGGACATCATACCAAAGTCGTACAATTAGGACCTCGATATGGTTTTATTCTGTTTATCGTATCGGAGGTTATGTTCTTTTTTGCTCTTTTTCGGGCTTCTTCTCATTCTTCTTTGGCACCTACGGTAGAG\n",
      "***** ALIGNMENT *****\n",
      "** Alignment HSP **\n",
      "sequence: gi|756762107|gb|KM207679.1| Nicotiana tabacum/Hyoscyamus niger cybrid clone contig2 mitochondrion, complete sequence\n",
      "length: 248768\n",
      "e_value: 3.41266e-96\n",
      "TGGGCCTCATATTTATCCTATATACCATGTTCGTATGGTGGCGCGATGTTCTACGTGAATCCACGTTCGAAGGACATCATACCAAAGTCGTACAATTAGGACCTCGATATGGTTTTATTCTGTTTATCGTATCGGAGGTTATGTTCTTTTTTGCTCTTTTTCGGGCTTCTTCTCATTCTTCTTTGGCACCTACGGTAGAG\n",
      "||||||||||||||||||||||||||||||||||||||||||||||||||||||||||||||||||||||||||||||||||||||||||||||||||||||||||||||||||||||||||||||||||||||||||||||||||||||||||||||||||||||||||||||||||||||||||||||||||||||||\n",
      "TGGGCCTCATATTTATCCTATATACCATGTTCGTATGGTGGCGCGATGTTCTACGTGAATCCACGTTCGAAGGACATCATACCAAAGTCGTACAATTAGGACCTCGATATGGTTTTATTCTGTTTATCGTATCGGAGGTTATGTTCTTTTTTGCTCTTTTTCGGGCTTCTTCTCATTCTTCTTTGGCACCTACGGTAGAG\n",
      "***** ALIGNMENT *****\n",
      "** Alignment HSP **\n",
      "sequence: gi|698585445|ref|XM_009780350.1| PREDICTED: Nicotiana sylvestris cytochrome c oxidase subunit 3 (LOC104227970), mRNA\n",
      "length: 1334\n",
      "e_value: 3.41266e-96\n",
      "TGGGCCTCATATTTATCCTATATACCATGTTCGTATGGTGGCGCGATGTTCTACGTGAATCCACGTTCGAAGGACATCATACCAAAGTCGTACAATTAGGACCTCGATATGGTTTTATTCTGTTTATCGTATCGGAGGTTATGTTCTTTTTTGCTCTTTTTCGGGCTTCTTCTCATTCTTCTTTGGCACCTACGGTAGAG\n",
      "||||||||||||||||||||||||||||||||||||||||||||||||||||||||||||||||||||||||||||||||||||||||||||||||||||||||||||||||||||||||||||||||||||||||||||||||||||||||||||||||||||||||||||||||||||||||||||||||||||||||\n",
      "TGGGCCTCATATTTATCCTATATACCATGTTCGTATGGTGGCGCGATGTTCTACGTGAATCCACGTTCGAAGGACATCATACCAAAGTCGTACAATTAGGACCTCGATATGGTTTTATTCTGTTTATCGTATCGGAGGTTATGTTCTTTTTTGCTCTTTTTCGGGCTTCTTCTCATTCTTCTTTGGCACCTACGGTAGAG\n",
      "***** ALIGNMENT *****\n",
      "** Alignment HSP **\n",
      "sequence: gi|56806513|dbj|BA000042.1| Nicotiana tabacum mitochondrial DNA, complete genome\n",
      "length: 430597\n",
      "e_value: 3.41266e-96\n",
      "TGGGCCTCATATTTATCCTATATACCATGTTCGTATGGTGGCGCGATGTTCTACGTGAATCCACGTTCGAAGGACATCATACCAAAGTCGTACAATTAGGACCTCGATATGGTTTTATTCTGTTTATCGTATCGGAGGTTATGTTCTTTTTTGCTCTTTTTCGGGCTTCTTCTCATTCTTCTTTGGCACCTACGGTAGAG\n",
      "||||||||||||||||||||||||||||||||||||||||||||||||||||||||||||||||||||||||||||||||||||||||||||||||||||||||||||||||||||||||||||||||||||||||||||||||||||||||||||||||||||||||||||||||||||||||||||||||||||||||\n",
      "TGGGCCTCATATTTATCCTATATACCATGTTCGTATGGTGGCGCGATGTTCTACGTGAATCCACGTTCGAAGGACATCATACCAAAGTCGTACAATTAGGACCTCGATATGGTTTTATTCTGTTTATCGTATCGGAGGTTATGTTCTTTTTTGCTCTTTTTCGGGCTTCTTCTCATTCTTCTTTGGCACCTACGGTAGAG\n",
      "***** ALIGNMENT *****\n",
      "** Alignment HSP **\n",
      "sequence: gi|1477772559|gb|CP025675.1| Ipomoea triloba cultivar NCNSP0323 chromosome 16\n",
      "length: 18351525\n",
      "e_value: 1.4511e-94\n",
      "TGGGCCTCATATTTATCCTATATACCATGTTCGTATGGTGGCGCGATGTTCTACGTGAATCCACGTTCGAAGGACATCATACCAAAGTCGTACAATTAGGACCTCGATATGGTTTTATTCTGTTTATCGTATCGGAGGTTATGTTCTTTTTTGCTCTTTTTCGGGCTTCTTCTCATTCTTCTTTGGCACCTACGGTAGAG\n",
      "||||||||||||||||||||||||||||||||||||||||||||||||||||||| ||||||||||||||||||||||||||||||||||||||||||||||||||||||||||||||||||||||||||||||||||||||||||||||||||||||||||||||||||||||||||||||||||||||||||||||||\n",
      "TGGGCCTCATATTTATCCTATATACCATGTTCGTATGGTGGCGCGATGTTCTACGCGAATCCACGTTCGAAGGACATCATACCAAAGTCGTACAATTAGGACCTCGATATGGTTTTATTCTGTTTATCGTATCGGAGGTTATGTTCTTTTTTGCTCTTTTTCGGGCTTCTTCTCATTCTTCTTTGGCACCTACGGTAGAG\n",
      "***** ALIGNMENT *****\n",
      "** Alignment HSP **\n",
      "sequence: gi|1477772556|gb|CP025672.1| Ipomoea triloba cultivar NCNSP0323 chromosome 13\n",
      "length: 32066333\n",
      "e_value: 1.4511e-94\n",
      "TGGGCCTCATATTTATCCTATATACCATGTTCGTATGGTGGCGCGATGTTCTACGTGAATCCACGTTCGAAGGACATCATACCAAAGTCGTACAATTAGGACCTCGATATGGTTTTATTCTGTTTATCGTATCGGAGGTTATGTTCTTTTTTGCTCTTTTTCGGGCTTCTTCTCATTCTTCTTTGGCACCTACGGTAGAG\n",
      "||||||||||||||||||||||||||||||||||||||||||||||||||||||| ||||||||||||||||||||||||||||||||||||||||||||||||||||||||||||||||||||||||||||||||||||||||||||||||||||||||||||||||||||||||||||||||||||||||||||||||\n",
      "TGGGCCTCATATTTATCCTATATACCATGTTCGTATGGTGGCGCGATGTTCTACGCGAATCCACGTTCGAAGGACATCATACCAAAGTCGTACAATTAGGACCTCGATATGGTTTTATTCTGTTTATCGTATCGGAGGTTATGTTCTTTTTTGCTCTTTTTCGGGCTTCTTCTCATTCTTCTTTGGCACCTACGGTAGAG\n",
      "***** ALIGNMENT *****\n",
      "** Alignment HSP **\n",
      "sequence: gi|1477772555|gb|CP025671.1| Ipomoea triloba cultivar NCNSP0323 chromosome 12\n",
      "length: 28340316\n",
      "e_value: 1.4511e-94\n",
      "TGGGCCTCATATTTATCCTATATACCATGTTCGTATGGTGGCGCGATGTTCTACGTGAATCCACGTTCGAAGGACATCATACCAAAGTCGTACAATTAGGACCTCGATATGGTTTTATTCTGTTTATCGTATCGGAGGTTATGTTCTTTTTTGCTCTTTTTCGGGCTTCTTCTCATTCTTCTTTGGCACCTACGGTAGAG\n",
      "||||||||||||||||||||||||||||||||||||||||||||||||||||||| ||||||||||||||||||||||||||||||||||||||||||||||||||||||||||||||||||||||||||||||||||||||||||||||||||||||||||||||||||||||||||||||||||||||||||||||||\n",
      "TGGGCCTCATATTTATCCTATATACCATGTTCGTATGGTGGCGCGATGTTCTACGCGAATCCACGTTCGAAGGACATCATACCAAAGTCGTACAATTAGGACCTCGATATGGTTTTATTCTGTTTATCGTATCGGAGGTTATGTTCTTTTTTGCTCTTTTTCGGGCTTCTTCTCATTCTTCTTTGGCACCTACGGTAGAG\n",
      "** Alignment HSP **\n",
      "sequence: gi|1477772555|gb|CP025671.1| Ipomoea triloba cultivar NCNSP0323 chromosome 12\n",
      "length: 28340316\n",
      "e_value: 1.4511e-94\n",
      "TGGGCCTCATATTTATCCTATATACCATGTTCGTATGGTGGCGCGATGTTCTACGTGAATCCACGTTCGAAGGACATCATACCAAAGTCGTACAATTAGGACCTCGATATGGTTTTATTCTGTTTATCGTATCGGAGGTTATGTTCTTTTTTGCTCTTTTTCGGGCTTCTTCTCATTCTTCTTTGGCACCTACGGTAGAG\n",
      "||||||||||||||||||||||||||||||||||||||||||||||||||||||| ||||||||||||||||||||||||||||||||||||||||||||||||||||||||||||||||||||||||||||||||||||||||||||||||||||||||||||||||||||||||||||||||||||||||||||||||\n",
      "TGGGCCTCATATTTATCCTATATACCATGTTCGTATGGTGGCGCGATGTTCTACGCGAATCCACGTTCGAAGGACATCATACCAAAGTCGTACAATTAGGACCTCGATATGGTTTTATTCTGTTTATCGTATCGGAGGTTATGTTCTTTTTTGCTCTTTTTCGGGCTTCTTCTCATTCTTCTTTGGCACCTACGGTAGAG\n",
      "***** ALIGNMENT *****\n",
      "** Alignment HSP **\n",
      "sequence: gi|814071725|ref|NC_026515.1| Hyoscyamus niger mitochondrion, complete genome\n",
      "length: 501401\n",
      "e_value: 1.4511e-94\n",
      "TGGGCCTCATATTTATCCTATATACCATGTTCGTATGGTGGCGCGATGTTCTACGTGAATCCACGTTCGAAGGACATCATACCAAAGTCGTACAATTAGGACCTCGATATGGTTTTATTCTGTTTATCGTATCGGAGGTTATGTTCTTTTTTGCTCTTTTTCGGGCTTCTTCTCATTCTTCTTTGGCACCTACGGTAGAG\n",
      "|||||||||||||| |||||||||||||||||||||||||||||||||||||||||||||||||||||||||||||||||||||||||||||||||||||||||||||||||||||||||||||||||||||||||||||||||||||||||||||||||||||||||||||||||||||||||||||||||||||||||\n",
      "TGGGCCTCATATTTCTCCTATATACCATGTTCGTATGGTGGCGCGATGTTCTACGTGAATCCACGTTCGAAGGACATCATACCAAAGTCGTACAATTAGGACCTCGATATGGTTTTATTCTGTTTATCGTATCGGAGGTTATGTTCTTTTTTGCTCTTTTTCGGGCTTCTTCTCATTCTTCTTTGGCACCTACGGTAGAG\n",
      "***** ALIGNMENT *****\n",
      "** Alignment HSP **\n",
      "sequence: gi|1333448397|gb|MF989958.1| Solanum tuberosum chromosome 1 mitochondrion, complete sequence\n",
      "length: 398439\n",
      "e_value: 1.4511e-94\n",
      "TGGGCCTCATATTTATCCTATATACCATGTTCGTATGGTGGCGCGATGTTCTACGTGAATCCACGTTCGAAGGACATCATACCAAAGTCGTACAATTAGGACCTCGATATGGTTTTATTCTGTTTATCGTATCGGAGGTTATGTTCTTTTTTGCTCTTTTTCGGGCTTCTTCTCATTCTTCTTTGGCACCTACGGTAGAG\n",
      "|||||||||||||| |||||||||||||||||||||||||||||||||||||||||||||||||||||||||||||||||||||||||||||||||||||||||||||||||||||||||||||||||||||||||||||||||||||||||||||||||||||||||||||||||||||||||||||||||||||||||\n",
      "TGGGCCTCATATTTCTCCTATATACCATGTTCGTATGGTGGCGCGATGTTCTACGTGAATCCACGTTCGAAGGACATCATACCAAAGTCGTACAATTAGGACCTCGATATGGTTTTATTCTGTTTATCGTATCGGAGGTTATGTTCTTTTTTGCTCTTTTTCGGGCTTCTTCTCATTCTTCTTTGGCACCTACGGTAGAG\n",
      "***** ALIGNMENT *****\n",
      "** Alignment HSP **\n",
      "sequence: gi|1333448363|gb|MF989955.1| Solanum tuberosum chromosome 3 mitochondrion, complete sequence\n",
      "length: 112800\n",
      "e_value: 1.4511e-94\n",
      "TGGGCCTCATATTTATCCTATATACCATGTTCGTATGGTGGCGCGATGTTCTACGTGAATCCACGTTCGAAGGACATCATACCAAAGTCGTACAATTAGGACCTCGATATGGTTTTATTCTGTTTATCGTATCGGAGGTTATGTTCTTTTTTGCTCTTTTTCGGGCTTCTTCTCATTCTTCTTTGGCACCTACGGTAGAG\n",
      "|||||||||||||| |||||||||||||||||||||||||||||||||||||||||||||||||||||||||||||||||||||||||||||||||||||||||||||||||||||||||||||||||||||||||||||||||||||||||||||||||||||||||||||||||||||||||||||||||||||||||\n",
      "TGGGCCTCATATTTCTCCTATATACCATGTTCGTATGGTGGCGCGATGTTCTACGTGAATCCACGTTCGAAGGACATCATACCAAAGTCGTACAATTAGGACCTCGATATGGTTTTATTCTGTTTATCGTATCGGAGGTTATGTTCTTTTTTGCTCTTTTTCGGGCTTCTTCTCATTCTTCTTTGGCACCTACGGTAGAG\n",
      "***** ALIGNMENT *****\n",
      "** Alignment HSP **\n",
      "sequence: gi|1279120489|gb|MF989960.1| Solanum commersonii strain Lz3.2 chromosome 1 mitochondrion, complete sequence\n",
      "length: 338427\n",
      "e_value: 1.4511e-94\n",
      "TGGGCCTCATATTTATCCTATATACCATGTTCGTATGGTGGCGCGATGTTCTACGTGAATCCACGTTCGAAGGACATCATACCAAAGTCGTACAATTAGGACCTCGATATGGTTTTATTCTGTTTATCGTATCGGAGGTTATGTTCTTTTTTGCTCTTTTTCGGGCTTCTTCTCATTCTTCTTTGGCACCTACGGTAGAG\n",
      "|||||||||||||| |||||||||||||||||||||||||||||||||||||||||||||||||||||||||||||||||||||||||||||||||||||||||||||||||||||||||||||||||||||||||||||||||||||||||||||||||||||||||||||||||||||||||||||||||||||||||\n",
      "TGGGCCTCATATTTCTCCTATATACCATGTTCGTATGGTGGCGCGATGTTCTACGTGAATCCACGTTCGAAGGACATCATACCAAAGTCGTACAATTAGGACCTCGATATGGTTTTATTCTGTTTATCGTATCGGAGGTTATGTTCTTTTTTGCTCTTTTTCGGGCTTCTTCTCATTCTTCTTTGGCACCTACGGTAGAG\n",
      "***** ALIGNMENT *****\n",
      "** Alignment HSP **\n",
      "sequence: gi|1273855328|gb|CP023756.1| Solanum lycopersicum cultivar I-3 chromosome 00\n",
      "length: 21806743\n",
      "e_value: 1.4511e-94\n",
      "TGGGCCTCATATTTATCCTATATACCATGTTCGTATGGTGGCGCGATGTTCTACGTGAATCCACGTTCGAAGGACATCATACCAAAGTCGTACAATTAGGACCTCGATATGGTTTTATTCTGTTTATCGTATCGGAGGTTATGTTCTTTTTTGCTCTTTTTCGGGCTTCTTCTCATTCTTCTTTGGCACCTACGGTAGAG\n",
      "|||||||||||||| |||||||||||||||||||||||||||||||||||||||||||||||||||||||||||||||||||||||||||||||||||||||||||||||||||||||||||||||||||||||||||||||||||||||||||||||||||||||||||||||||||||||||||||||||||||||||\n",
      "TGGGCCTCATATTTCTCCTATATACCATGTTCGTATGGTGGCGCGATGTTCTACGTGAATCCACGTTCGAAGGACATCATACCAAAGTCGTACAATTAGGACCTCGATATGGTTTTATTCTGTTTATCGTATCGGAGGTTATGTTCTTTTTTGCTCTTTTTCGGGCTTCTTCTCATTCTTCTTTGGCACCTACGGTAGAG\n",
      "***** ALIGNMENT *****\n",
      "** Alignment HSP **\n",
      "sequence: gi|1244022692|gb|MF034194.1| Solanum pennellii bio-material TGRC:LA0716 mitochondrion, complete genome\n",
      "length: 423596\n",
      "e_value: 1.4511e-94\n",
      "TGGGCCTCATATTTATCCTATATACCATGTTCGTATGGTGGCGCGATGTTCTACGTGAATCCACGTTCGAAGGACATCATACCAAAGTCGTACAATTAGGACCTCGATATGGTTTTATTCTGTTTATCGTATCGGAGGTTATGTTCTTTTTTGCTCTTTTTCGGGCTTCTTCTCATTCTTCTTTGGCACCTACGGTAGAG\n",
      "|||||||||||||| |||||||||||||||||||||||||||||||||||||||||||||||||||||||||||||||||||||||||||||||||||||||||||||||||||||||||||||||||||||||||||||||||||||||||||||||||||||||||||||||||||||||||||||||||||||||||\n",
      "TGGGCCTCATATTTCTCCTATATACCATGTTCGTATGGTGGCGCGATGTTCTACGTGAATCCACGTTCGAAGGACATCATACCAAAGTCGTACAATTAGGACCTCGATATGGTTTTATTCTGTTTATCGTATCGGAGGTTATGTTCTTTTTTGCTCTTTTTCGGGCTTCTTCTCATTCTTCTTTGGCACCTACGGTAGAG\n",
      "***** ALIGNMENT *****\n",
      "** Alignment HSP **\n",
      "sequence: gi|1244022647|gb|MF034193.1| Solanum lycopersicum bio-material TGRC:LA1479 mitochondrion, complete genome\n",
      "length: 424423\n",
      "e_value: 1.4511e-94\n",
      "TGGGCCTCATATTTATCCTATATACCATGTTCGTATGGTGGCGCGATGTTCTACGTGAATCCACGTTCGAAGGACATCATACCAAAGTCGTACAATTAGGACCTCGATATGGTTTTATTCTGTTTATCGTATCGGAGGTTATGTTCTTTTTTGCTCTTTTTCGGGCTTCTTCTCATTCTTCTTTGGCACCTACGGTAGAG\n",
      "|||||||||||||| |||||||||||||||||||||||||||||||||||||||||||||||||||||||||||||||||||||||||||||||||||||||||||||||||||||||||||||||||||||||||||||||||||||||||||||||||||||||||||||||||||||||||||||||||||||||||\n",
      "TGGGCCTCATATTTCTCCTATATACCATGTTCGTATGGTGGCGCGATGTTCTACGTGAATCCACGTTCGAAGGACATCATACCAAAGTCGTACAATTAGGACCTCGATATGGTTTTATTCTGTTTATCGTATCGGAGGTTATGTTCTTTTTTGCTCTTTTTCGGGCTTCTTCTCATTCTTCTTTGGCACCTACGGTAGAG\n",
      "***** ALIGNMENT *****\n",
      "** Alignment HSP **\n",
      "sequence: gi|1244022607|gb|MF034192.1| Solanum lycopersicum bio-material TGRC:LA1421 mitochondrion, complete genome\n",
      "length: 446257\n",
      "e_value: 1.4511e-94\n",
      "TGGGCCTCATATTTATCCTATATACCATGTTCGTATGGTGGCGCGATGTTCTACGTGAATCCACGTTCGAAGGACATCATACCAAAGTCGTACAATTAGGACCTCGATATGGTTTTATTCTGTTTATCGTATCGGAGGTTATGTTCTTTTTTGCTCTTTTTCGGGCTTCTTCTCATTCTTCTTTGGCACCTACGGTAGAG\n",
      "|||||||||||||| |||||||||||||||||||||||||||||||||||||||||||||||||||||||||||||||||||||||||||||||||||||||||||||||||||||||||||||||||||||||||||||||||||||||||||||||||||||||||||||||||||||||||||||||||||||||||\n",
      "TGGGCCTCATATTTCTCCTATATACCATGTTCGTATGGTGGCGCGATGTTCTACGTGAATCCACGTTCGAAGGACATCATACCAAAGTCGTACAATTAGGACCTCGATATGGTTTTATTCTGTTTATCGTATCGGAGGTTATGTTCTTTTTTGCTCTTTTTCGGGCTTCTTCTCATTCTTCTTTGGCACCTACGGTAGAG\n",
      "***** ALIGNMENT *****\n",
      "** Alignment HSP **\n",
      "sequence: gi|1061197232|dbj|AP017303.1| Ipomoea nil mitochondrial DNA, complete sequence, cultivar: Tokyo-kokei standard\n",
      "length: 265768\n",
      "e_value: 1.4511e-94\n",
      "TGGGCCTCATATTTATCCTATATACCATGTTCGTATGGTGGCGCGATGTTCTACGTGAATCCACGTTCGAAGGACATCATACCAAAGTCGTACAATTAGGACCTCGATATGGTTTTATTCTGTTTATCGTATCGGAGGTTATGTTCTTTTTTGCTCTTTTTCGGGCTTCTTCTCATTCTTCTTTGGCACCTACGGTAGAG\n",
      "||||||||||||||||||||||||||||||||||||||||||||||||||||||| ||||||||||||||||||||||||||||||||||||||||||||||||||||||||||||||||||||||||||||||||||||||||||||||||||||||||||||||||||||||||||||||||||||||||||||||||\n",
      "TGGGCCTCATATTTATCCTATATACCATGTTCGTATGGTGGCGCGATGTTCTACGCGAATCCACGTTCGAAGGACATCATACCAAAGTCGTACAATTAGGACCTCGATATGGTTTTATTCTGTTTATCGTATCGGAGGTTATGTTCTTTTTTGCTCTTTTTCGGGCTTCTTCTCATTCTTCTTTGGCACCTACGGTAGAG\n",
      "***** ALIGNMENT *****\n",
      "** Alignment HSP **\n",
      "sequence: gi|916446290|gb|KT179384.1| Solanum triflorum voucher Aust 161 cytochrome c oxidase subunit 3 (coxIII) gene, complete cds; mitochondrial\n",
      "length: 798\n",
      "e_value: 1.4511e-94\n",
      "TGGGCCTCATATTTATCCTATATACCATGTTCGTATGGTGGCGCGATGTTCTACGTGAATCCACGTTCGAAGGACATCATACCAAAGTCGTACAATTAGGACCTCGATATGGTTTTATTCTGTTTATCGTATCGGAGGTTATGTTCTTTTTTGCTCTTTTTCGGGCTTCTTCTCATTCTTCTTTGGCACCTACGGTAGAG\n",
      "|||||||||||||| |||||||||||||||||||||||||||||||||||||||||||||||||||||||||||||||||||||||||||||||||||||||||||||||||||||||||||||||||||||||||||||||||||||||||||||||||||||||||||||||||||||||||||||||||||||||||\n",
      "TGGGCCTCATATTTCTCCTATATACCATGTTCGTATGGTGGCGCGATGTTCTACGTGAATCCACGTTCGAAGGACATCATACCAAAGTCGTACAATTAGGACCTCGATATGGTTTTATTCTGTTTATCGTATCGGAGGTTATGTTCTTTTTTGCTCTTTTTCGGGCTTCTTCTCATTCTTCTTTGGCACCTACGGTAGAG\n",
      "***** ALIGNMENT *****\n",
      "** Alignment HSP **\n",
      "sequence: gi|916446285|gb|KT179382.1| Solanum carolinense voucher Aust 169 cytochrome c oxidase subunit 3 (coxIII) gene, complete cds; mitochondrial >gi|916446288|gb|KT179383.1| Solanum rostratum voucher Aust 178 cytochrome c oxidase subunit 3 (coxIII) gene, complete cds; mitochondrial\n",
      "length: 798\n",
      "e_value: 1.4511e-94\n",
      "TGGGCCTCATATTTATCCTATATACCATGTTCGTATGGTGGCGCGATGTTCTACGTGAATCCACGTTCGAAGGACATCATACCAAAGTCGTACAATTAGGACCTCGATATGGTTTTATTCTGTTTATCGTATCGGAGGTTATGTTCTTTTTTGCTCTTTTTCGGGCTTCTTCTCATTCTTCTTTGGCACCTACGGTAGAG\n",
      "|||||||||||||| |||||||||||||||||||||||||||||||||||||||||||||||||||||||||||||||||||||||||||||||||||||||||||||||||||||||||||||||||||||||||||||||||||||||||||||||||||||||||||||||||||||||||||||||||||||||||\n",
      "TGGGCCTCATATTTCTCCTATATACCATGTTCGTATGGTGGCGCGATGTTCTACGTGAATCCACGTTCGAAGGACATCATACCAAAGTCGTACAATTAGGACCTCGATATGGTTTTATTCTGTTTATCGTATCGGAGGTTATGTTCTTTTTTGCTCTTTTTCGGGCTTCTTCTCATTCTTCTTTGGCACCTACGGTAGAG\n",
      "***** ALIGNMENT *****\n",
      "** Alignment HSP **\n",
      "sequence: gi|916446271|gb|KT179377.1| Convolvulus arvensis voucher Kellar 1382 cytochrome c oxidase subunit 3 (coxIII) gene, complete cds; mitochondrial >gi|916446274|gb|KT179378.1| Ipomoea leptophylla voucher Steele 1349 cytochrome c oxidase subunit 3 (coxIII) gene, complete cds; mitochondrial\n",
      "length: 798\n",
      "e_value: 1.4511e-94\n",
      "TGGGCCTCATATTTATCCTATATACCATGTTCGTATGGTGGCGCGATGTTCTACGTGAATCCACGTTCGAAGGACATCATACCAAAGTCGTACAATTAGGACCTCGATATGGTTTTATTCTGTTTATCGTATCGGAGGTTATGTTCTTTTTTGCTCTTTTTCGGGCTTCTTCTCATTCTTCTTTGGCACCTACGGTAGAG\n",
      "||||||||||||||||||||||||||||||||||||||||||||||||||||||| ||||||||||||||||||||||||||||||||||||||||||||||||||||||||||||||||||||||||||||||||||||||||||||||||||||||||||||||||||||||||||||||||||||||||||||||||\n",
      "TGGGCCTCATATTTATCCTATATACCATGTTCGTATGGTGGCGCGATGTTCTACGCGAATCCACGTTCGAAGGACATCATACCAAAGTCGTACAATTAGGACCTCGATATGGTTTTATTCTGTTTATCGTATCGGAGGTTATGTTCTTTTTTGCTCTTTTTCGGGCTTCTTCTCATTCTTCTTTGGCACCTACGGTAGAG\n",
      "***** ALIGNMENT *****\n",
      "** Alignment HSP **\n",
      "sequence: gi|756142152|gb|KM207685.1| Hyoscyamus niger mitochondrion, complete genome\n",
      "length: 501401\n",
      "e_value: 1.4511e-94\n",
      "TGGGCCTCATATTTATCCTATATACCATGTTCGTATGGTGGCGCGATGTTCTACGTGAATCCACGTTCGAAGGACATCATACCAAAGTCGTACAATTAGGACCTCGATATGGTTTTATTCTGTTTATCGTATCGGAGGTTATGTTCTTTTTTGCTCTTTTTCGGGCTTCTTCTCATTCTTCTTTGGCACCTACGGTAGAG\n",
      "|||||||||||||| |||||||||||||||||||||||||||||||||||||||||||||||||||||||||||||||||||||||||||||||||||||||||||||||||||||||||||||||||||||||||||||||||||||||||||||||||||||||||||||||||||||||||||||||||||||||||\n",
      "TGGGCCTCATATTTCTCCTATATACCATGTTCGTATGGTGGCGCGATGTTCTACGTGAATCCACGTTCGAAGGACATCATACCAAAGTCGTACAATTAGGACCTCGATATGGTTTTATTCTGTTTATCGTATCGGAGGTTATGTTCTTTTTTGCTCTTTTTCGGGCTTCTTCTCATTCTTCTTTGGCACCTACGGTAGAG\n",
      "***** ALIGNMENT *****\n",
      "** Alignment HSP **\n",
      "sequence: gi|887515651|gb|KP940494.1| Cuscuta gronovii cytochrome c oxidase subunit 2 (cox2) gene, complete cds; tRNA-Met (trnM) and tRNA-Gly (trnG) genes, complete sequence; ATP synthase subunit 4 (atp4), ATP synthase subunit 8 (atp8), and cytochrome c oxidase subunit 3 (cox3) genes, complete cds; and sdh4 pseudogene, complete sequence; mitochondrial\n",
      "length: 36033\n",
      "e_value: 1.7678e-93\n",
      "TGGGCCTCATATTTATCCTATATACCATGTTCGTATGGTGGCGCGATGTTCTACGTGAATCCACGTTCGAAGGACATCATACCAAAGTCGTACAATTAGGACCTCGATATGGTTTTATTCTGTTTATCGTATCGGAGGTTATGTTCTTTTTTGCTCTTTTTCGGGCTTCTTCTCATTCTTCTTTGGCACCTACGGTAGAG\n",
      "|||||||| |||||||||||||||||||||||||||||||||||||||||||||| ||||||||||||||||||||||||||||||||||||||||||||||||||||||||||||||||||||||||||||||||||||||||||||||||||||||||||||||||||||||||||||||||||||||||||||||||\n",
      "TGGGCCTCCTATTTATCCTATATACCATGTTCGTATGGTGGCGCGATGTTCTACGCGAATCCACGTTCGAAGGACATCATACCAAAGTCGTACAATTAGGACCTCGATATGGTTTTATTCTGTTTATCGTATCGGAGGTTATGTTCTTTTTTGCTCTTTTTCGGGCTTCTTCTCATTCTTCTTTGGCACCTACGGTAGAG\n",
      "** Alignment HSP **\n",
      "sequence: gi|887515651|gb|KP940494.1| Cuscuta gronovii cytochrome c oxidase subunit 2 (cox2) gene, complete cds; tRNA-Met (trnM) and tRNA-Gly (trnG) genes, complete sequence; ATP synthase subunit 4 (atp4), ATP synthase subunit 8 (atp8), and cytochrome c oxidase subunit 3 (cox3) genes, complete cds; and sdh4 pseudogene, complete sequence; mitochondrial\n",
      "length: 36033\n",
      "e_value: 2.0242e-10\n",
      "TATGTTCTTTTTTGCTCTTTTTCGGGCTTCTTCTCATTCTTC\n",
      "||||||||||||||||||||||||||||||||||||||||||\n",
      "TATGTTCTTTTTTGCTCTTTTTCGGGCTTCTTCTCATTCTTC\n",
      "***** ALIGNMENT *****\n",
      "** Alignment HSP **\n",
      "sequence: gi|970033394|ref|XM_015222513.1| PREDICTED: Solanum pennellii cytochrome c oxidase subunit 3 (LOC107021801), mRNA\n",
      "length: 1594\n",
      "e_value: 1.7678e-93\n",
      "TGGGCCTCATATTTATCCTATATACCATGTTCGTATGGTGGCGCGATGTTCTACGTGAATCCACGTTCGAAGGACATCATACCAAAGTCGTACAATTAGGACCTCGATATGGTTTTATTCTGTTTATCGTATCGGAGGTTATGTTCTTTTTTGCTCTTTTTCGGGCTTCTTCTCATTCTTCTTTGGCACCTACGGTAGAG\n",
      "|||||||||||||| ||||||||||||||||||||||| |||||||||||||||||||||||||||||||||||||||||||||||||||||||||||||||||||||||||||||||||||||||||||||||||||||||||||||||||||||||||||||||||||||||||||||||||||||||||||||||||\n",
      "TGGGCCTCATATTTCTCCTATATACCATGTTCGTATGGGGGCGCGATGTTCTACGTGAATCCACGTTCGAAGGACATCATACCAAAGTCGTACAATTAGGACCTCGATATGGTTTTATTCTGTTTATCGTATCGGAGGTTATGTTCTTTTTTGCTCTTTTTCGGGCTTCTTCTCATTCTTCTTTGGCACCTACGGTAGAG\n",
      "***** ALIGNMENT *****\n",
      "** Alignment HSP **\n",
      "sequence: gi|667751905|gb|KJ865410.1| Capsicum annuum cultivar Jeju mitochondrion, complete genome\n",
      "length: 511530\n",
      "e_value: 1.7678e-93\n",
      "TGGGCCTCATATTTATCCTATATACCATGTTCGTATGGTGGCGCGATGTTCTACGTGAATCCACGTTCGAAGGACATCATACCAAAGTCGTACAATTAGGACCTCGATATGGTTTTATTCTGTTTATCGTATCGGAGGTTATGTTCTTTTTTGCTCTTTTTCGGGCTTCTTCTCATTCTTCTTTGGCACCTACGGTAGAG\n",
      "|||||||||||||| |||||||||||||||||||||||||||||||||||||||| ||||||||||||||||||||||||||||||||||||||||||||||||||||||||||||||||||||||||||||||||||||||||||||||||||||||||||||||||||||||||||||||||||||||||||||||||\n",
      "TGGGCCTCATATTTCTCCTATATACCATGTTCGTATGGTGGCGCGATGTTCTACGCGAATCCACGTTCGAAGGACATCATACCAAAGTCGTACAATTAGGACCTCGATATGGTTTTATTCTGTTTATCGTATCGGAGGTTATGTTCTTTTTTGCTCTTTTTCGGGCTTCTTCTCATTCTTCTTTGGCACCTACGGTAGAG\n",
      "***** ALIGNMENT *****\n",
      "** Alignment HSP **\n",
      "sequence: gi|667751705|gb|KJ865409.1| Capsicum annuum cultivar CMS line FS4401 mitochondrion, complete genome\n",
      "length: 507452\n",
      "e_value: 1.7678e-93\n",
      "TGGGCCTCATATTTATCCTATATACCATGTTCGTATGGTGGCGCGATGTTCTACGTGAATCCACGTTCGAAGGACATCATACCAAAGTCGTACAATTAGGACCTCGATATGGTTTTATTCTGTTTATCGTATCGGAGGTTATGTTCTTTTTTGCTCTTTTTCGGGCTTCTTCTCATTCTTCTTTGGCACCTACGGTAGAG\n",
      "|||||||||||||| |||||||||||||||||||||||||||||||||||||||| ||||||||||||||||||||||||||||||||||||||||||||||||||||||||||||||||||||||||||||||||||||||||||||||||||||||||||||||||||||||||||||||||||||||||||||||||\n",
      "TGGGCCTCATATTTCTCCTATATACCATGTTCGTATGGTGGCGCGATGTTCTACGCGAATCCACGTTCGAAGGACATCATACCAAAGTCGTACAATTAGGACCTCGATATGGTTTTATTCTGTTTATCGTATCGGAGGTTATGTTCTTTTTTGCTCTTTTTCGGGCTTCTTCTCATTCTTCTTTGGCACCTACGGTAGAG\n",
      "***** ALIGNMENT *****\n",
      "** Alignment HSP **\n",
      "sequence: gi|663673444|emb|HG975445.1| Solanum pennellii chromosome ch06, complete genome\n",
      "length: 60730942\n",
      "e_value: 1.7678e-93\n",
      "TGGGCCTCATATTTATCCTATATACCATGTTCGTATGGTGGCGCGATGTTCTACGTGAATCCACGTTCGAAGGACATCATACCAAAGTCGTACAATTAGGACCTCGATATGGTTTTATTCTGTTTATCGTATCGGAGGTTATGTTCTTTTTTGCTCTTTTTCGGGCTTCTTCTCATTCTTCTTTGGCACCTACGGTAGAG\n",
      "|||||||||||||| ||||||||||||||||||||||| |||||||||||||||||||||||||||||||||||||||||||||||||||||||||||||||||||||||||||||||||||||||||||||||||||||||||||||||||||||||||||||||||||||||||||||||||||||||||||||||||\n",
      "TGGGCCTCATATTTCTCCTATATACCATGTTCGTATGGGGGCGCGATGTTCTACGTGAATCCACGTTCGAAGGACATCATACCAAAGTCGTACAATTAGGACCTCGATATGGTTTTATTCTGTTTATCGTATCGGAGGTTATGTTCTTTTTTGCTCTTTTTCGGGCTTCTTCTCATTCTTCTTTGGCACCTACGGTAGAG\n",
      "***** ALIGNMENT *****\n",
      "** Alignment HSP **\n",
      "sequence: gi|1304515621|gb|KY638241.1| Sabicea diversifolia voucher B. Bremer, S. Razafimandimbison, K.Kainulainen, C. Rydin, M. Avino 5262 (S) cytochrome c oxidase subunit III (cox3) gene, complete cds; mitochondrial\n",
      "length: 798\n",
      "e_value: 7.51688e-92\n",
      "TGGGCCTCATATTTATCCTATATACCATGTTCGTATGGTGGCGCGATGTTCTACGTGAATCCACGTTCGAAGGACATCATACCAAAGTCGTACAATTAGGACCTCGATATGGTTTTATTCTGTTTATCGTATCGGAGGTTATGTTCTTTTTTGCTCTTTTTCGGGCTTCTTCTCATTCTTCTTTGGCACCTACGGTAGAG\n",
      "||||||||||||||||||||||||||||||||||||||||||||||||||||||||||||||||||| ||||||||||||||||||||||||||||||||||||||||||||||||||||| ||||||||||||||||||||||||||||||||| ||||||||||||||||||||||||||||||||||||||||||||\n",
      "TGGGCCTCATATTTATCCTATATACCATGTTCGTATGGTGGCGCGATGTTCTACGTGAATCCACGTTGGAAGGACATCATACCAAAGTCGTACAATTAGGACCTCGATATGGTTTTATTCTTTTTATCGTATCGGAGGTTATGTTCTTTTTTGCTTTTTTTCGGGCTTCTTCTCATTCTTCTTTGGCACCTACGGTAGAG\n",
      "***** ALIGNMENT *****\n",
      "** Alignment HSP **\n",
      "sequence: gi|1304515591|gb|KY638226.1| Isertia laevis voucher B. Bremer, K. Andreasen, A. Backlund, J. Kukka & B. Sennblad 3364 (UPS) cytochrome c oxidase subunit III (cox3) gene, complete cds; mitochondrial\n",
      "length: 798\n",
      "e_value: 7.51688e-92\n",
      "TGGGCCTCATATTTATCCTATATACCATGTTCGTATGGTGGCGCGATGTTCTACGTGAATCCACGTTCGAAGGACATCATACCAAAGTCGTACAATTAGGACCTCGATATGGTTTTATTCTGTTTATCGTATCGGAGGTTATGTTCTTTTTTGCTCTTTTTCGGGCTTCTTCTCATTCTTCTTTGGCACCTACGGTAGAG\n",
      "||||||||||||||||||||||||||||||||||||||||||||||||||||||||||||||||||| ||||||||||||||||||||||||||||||||||||||||||||||||||||| ||||||||||||||||||||||||||||||||| ||||||||||||||||||||||||||||||||||||||||||||\n",
      "TGGGCCTCATATTTATCCTATATACCATGTTCGTATGGTGGCGCGATGTTCTACGTGAATCCACGTTGGAAGGACATCATACCAAAGTCGTACAATTAGGACCTCGATATGGTTTTATTCTTTTTATCGTATCGGAGGTTATGTTCTTTTTTGCTTTTTTTCGGGCTTCTTCTCATTCTTCTTTGGCACCTACGGTAGAG\n",
      "***** ALIGNMENT *****\n",
      "** Alignment HSP **\n",
      "sequence: gi|1304515585|gb|KY638223.1| Guettarda scabra voucher Rova 2260 (GB) cytochrome c oxidase subunit III (cox3) gene, complete cds; mitochondrial\n",
      "length: 798\n",
      "e_value: 7.51688e-92\n",
      "TGGGCCTCATATTTATCCTATATACCATGTTCGTATGGTGGCGCGATGTTCTACGTGAATCCACGTTCGAAGGACATCATACCAAAGTCGTACAATTAGGACCTCGATATGGTTTTATTCTGTTTATCGTATCGGAGGTTATGTTCTTTTTTGCTCTTTTTCGGGCTTCTTCTCATTCTTCTTTGGCACCTACGGTAGAG\n",
      "||||||||||||||||||||||||||||||||||||||||||||||||||||||| ||||||||||| ||||||||||||||||||||||||||||||||||||||||||||||||||||| ||||||||||||||||||||||||||||||||||||||||||||||||||||||||||||||||||||||||||||||\n",
      "TGGGCCTCATATTTATCCTATATACCATGTTCGTATGGTGGCGCGATGTTCTACGCGAATCCACGTTGGAAGGACATCATACCAAAGTCGTACAATTAGGACCTCGATATGGTTTTATTCTTTTTATCGTATCGGAGGTTATGTTCTTTTTTGCTCTTTTTCGGGCTTCTTCTCATTCTTCTTTGGCACCTACGGTAGAG\n",
      "***** ALIGNMENT *****\n",
      "** Alignment HSP **\n",
      "sequence: gi|1304515575|gb|KY638218.1| Deppea grandiflora voucher Bremer 2724 (UPS) cytochrome c oxidase subunit III (cox3) gene, complete cds; mitochondrial\n",
      "length: 798\n",
      "e_value: 7.51688e-92\n",
      "TGGGCCTCATATTTATCCTATATACCATGTTCGTATGGTGGCGCGATGTTCTACGTGAATCCACGTTCGAAGGACATCATACCAAAGTCGTACAATTAGGACCTCGATATGGTTTTATTCTGTTTATCGTATCGGAGGTTATGTTCTTTTTTGCTCTTTTTCGGGCTTCTTCTCATTCTTCTTTGGCACCTACGGTAGAG\n",
      "||||||||||||||||||||||||||||||||||||||||||||||||||||||| ||||||||||| ||||||||||||||||||||||||||||||||||||||||||||||||||||| ||||||||||||||||||||||||||||||||||||||||||||||||||||||||||||||||||||||||||||||\n",
      "TGGGCCTCATATTTATCCTATATACCATGTTCGTATGGTGGCGCGATGTTCTACGCGAATCCACGTTGGAAGGACATCATACCAAAGTCGTACAATTAGGACCTCGATATGGTTTTATTCTTTTTATCGTATCGGAGGTTATGTTCTTTTTTGCTCTTTTTCGGGCTTCTTCTCATTCTTCTTTGGCACCTACGGTAGAG\n",
      "***** ALIGNMENT *****\n",
      "** Alignment HSP **\n",
      "sequence: gi|1304515573|gb|KY638217.1| Cubanola domingensis voucher Bremer 4500 (S) cytochrome c oxidase subunit III (cox3) gene, complete cds; mitochondrial\n",
      "length: 798\n",
      "e_value: 7.51688e-92\n",
      "TGGGCCTCATATTTATCCTATATACCATGTTCGTATGGTGGCGCGATGTTCTACGTGAATCCACGTTCGAAGGACATCATACCAAAGTCGTACAATTAGGACCTCGATATGGTTTTATTCTGTTTATCGTATCGGAGGTTATGTTCTTTTTTGCTCTTTTTCGGGCTTCTTCTCATTCTTCTTTGGCACCTACGGTAGAG\n",
      "||||||||||||||||||||||||||||||||||||||||||||||||||||||| ||||||||||| ||||||||||||||||||||||||||||||||||||||||||||||||||||| ||||||||||||||||||||||||||||||||||||||||||||||||||||||||||||||||||||||||||||||\n",
      "TGGGCCTCATATTTATCCTATATACCATGTTCGTATGGTGGCGCGATGTTCTACGCGAATCCACGTTGGAAGGACATCATACCAAAGTCGTACAATTAGGACCTCGATATGGTTTTATTCTTTTTATCGTATCGGAGGTTATGTTCTTTTTTGCTCTTTTTCGGGCTTCTTCTCATTCTTCTTTGGCACCTACGGTAGAG\n",
      "***** ALIGNMENT *****\n",
      "** Alignment HSP **\n",
      "sequence: gi|1304515571|gb|KY638216.1| Posoqueria latifolia voucher Bergius Botanical Garden SU-C-88.10 cytochrome c oxidase subunit III (cox3) gene, complete cds; mitochondrial\n",
      "length: 798\n",
      "e_value: 7.51688e-92\n",
      "TGGGCCTCATATTTATCCTATATACCATGTTCGTATGGTGGCGCGATGTTCTACGTGAATCCACGTTCGAAGGACATCATACCAAAGTCGTACAATTAGGACCTCGATATGGTTTTATTCTGTTTATCGTATCGGAGGTTATGTTCTTTTTTGCTCTTTTTCGGGCTTCTTCTCATTCTTCTTTGGCACCTACGGTAGAG\n",
      "||||||||||||||||||||||||||||||||||||||||||||||||||||||||||||||||||| ||||||||||||||||||||||||||||||||||||||||||||||||||||| ||||||||||||||||||||||||||||||||| ||||||||||||||||||||||||||||||||||||||||||||\n",
      "TGGGCCTCATATTTATCCTATATACCATGTTCGTATGGTGGCGCGATGTTCTACGTGAATCCACGTTGGAAGGACATCATACCAAAGTCGTACAATTAGGACCTCGATATGGTTTTATTCTTTTTATCGTATCGGAGGTTATGTTCTTTTTTGCTTTTTTTCGGGCTTCTTCTCATTCTTCTTTGGCACCTACGGTAGAG\n",
      "***** ALIGNMENT *****\n",
      "** Alignment HSP **\n",
      "sequence: gi|1304515569|gb|KY638215.1| Cinchona pubescens voucher Bremer 2733 (UPS) cytochrome c oxidase subunit III (cox3) gene, complete cds; mitochondrial\n",
      "length: 798\n",
      "e_value: 7.51688e-92\n",
      "TGGGCCTCATATTTATCCTATATACCATGTTCGTATGGTGGCGCGATGTTCTACGTGAATCCACGTTCGAAGGACATCATACCAAAGTCGTACAATTAGGACCTCGATATGGTTTTATTCTGTTTATCGTATCGGAGGTTATGTTCTTTTTTGCTCTTTTTCGGGCTTCTTCTCATTCTTCTTTGGCACCTACGGTAGAG\n",
      "||||||||||||||||||||||||||||||||||||||||||||||||||||||||||||||||||| ||||||||||||||||||||||||||||||||||||||||||||||||||||| ||||||||||||||||||||||||||||||||| ||||||||||||||||||||||||||||||||||||||||||||\n",
      "TGGGCCTCATATTTATCCTATATACCATGTTCGTATGGTGGCGCGATGTTCTACGTGAATCCACGTTGGAAGGACATCATACCAAAGTCGTACAATTAGGACCTCGATATGGTTTTATTCTTTTTATCGTATCGGAGGTTATGTTCTTTTTTGCTTTTTTTCGGGCTTCTTCTCATTCTTCTTTGGCACCTACGGTAGAG\n",
      "***** ALIGNMENT *****\n",
      "** Alignment HSP **\n",
      "sequence: gi|1304515531|gb|KY638196.1| Ophiorrhiza mungos voucher Bremer 3301 (UPS) cytochrome c oxidase subunit III (cox3) gene, complete cds; mitochondrial\n",
      "length: 798\n",
      "e_value: 7.51688e-92\n",
      "TGGGCCTCATATTTATCCTATATACCATGTTCGTATGGTGGCGCGATGTTCTACGTGAATCCACGTTCGAAGGACATCATACCAAAGTCGTACAATTAGGACCTCGATATGGTTTTATTCTGTTTATCGTATCGGAGGTTATGTTCTTTTTTGCTCTTTTTCGGGCTTCTTCTCATTCTTCTTTGGCACCTACGGTAGAG\n",
      "||||||||||||||||||||||||||||||||||||||||||||||||||||||||||||||||||| ||||||||||||||||||||||||||||||||||||||||||||||||||||| ||||||||||||||||||||||||||||||||||||||| ||||||||||||||||||||||||||||||||||||||\n",
      "TGGGCCTCATATTTATCCTATATACCATGTTCGTATGGTGGCGCGATGTTCTACGTGAATCCACGTTGGAAGGACATCATACCAAAGTCGTACAATTAGGACCTCGATATGGTTTTATTCTTTTTATCGTATCGGAGGTTATGTTCTTTTTTGCTCTTTTTTGGGCTTCTTCTCATTCTTCTTTGGCACCTACGGTAGAG\n",
      "***** ALIGNMENT *****\n",
      "** Alignment HSP **\n",
      "sequence: gi|1304515521|gb|KY638191.1| Luculia grandifolia voucher B. Bremer 2713 (S) cytochrome c oxidase subunit III (cox3) gene, complete cds; mitochondrial\n",
      "length: 798\n",
      "e_value: 7.51688e-92\n",
      "TGGGCCTCATATTTATCCTATATACCATGTTCGTATGGTGGCGCGATGTTCTACGTGAATCCACGTTCGAAGGACATCATACCAAAGTCGTACAATTAGGACCTCGATATGGTTTTATTCTGTTTATCGTATCGGAGGTTATGTTCTTTTTTGCTCTTTTTCGGGCTTCTTCTCATTCTTCTTTGGCACCTACGGTAGAG\n",
      "||||||||||||||||||||||||| ||||||||||||||||||||||||||||||||||||||||| ||||||||||||||||||||||||||||||||||||||||||||||||||||| ||||||||||||||||||||||||||||||||||||||||||||||||||||||||||||||||||||||||||||||\n",
      "TGGGCCTCATATTTATCCTATATACTATGTTCGTATGGTGGCGCGATGTTCTACGTGAATCCACGTTGGAAGGACATCATACCAAAGTCGTACAATTAGGACCTCGATATGGTTTTATTCTTTTTATCGTATCGGAGGTTATGTTCTTTTTTGCTCTTTTTCGGGCTTCTTCTCATTCTTCTTTGGCACCTACGGTAGAG\n",
      "***** ALIGNMENT *****\n",
      "** Alignment HSP **\n",
      "sequence: gi|1297094191|gb|MG431553.1| Syringa vulgaris cytochrome c oxidase subunit III (cox3) gene, complete cds; mitochondrial\n",
      "length: 798\n",
      "e_value: 7.51688e-92\n",
      "TGGGCCTCATATTTATCCTATATACCATGTTCGTATGGTGGCGCGATGTTCTACGTGAATCCACGTTCGAAGGACATCATACCAAAGTCGTACAATTAGGACCTCGATATGGTTTTATTCTGTTTATCGTATCGGAGGTTATGTTCTTTTTTGCTCTTTTTCGGGCTTCTTCTCATTCTTCTTTGGCACCTACGGTAGAG\n",
      "||||||||||||||||||||||||||||||||||||||||||||||||||||||||||||||||||| ||||||||||||||||||||||||||||||||||||||||||||||||||||| ||||||||||||||||||||||||||||||||| ||||||||||||||||||||||||||||||||||||||||||||\n",
      "TGGGCCTCATATTTATCCTATATACCATGTTCGTATGGTGGCGCGATGTTCTACGTGAATCCACGTTGGAAGGACATCATACCAAAGTCGTACAATTAGGACCTCGATATGGTTTTATTCTTTTTATCGTATCGGAGGTTATGTTCTTTTTTGCTTTTTTTCGGGCTTCTTCTCATTCTTCTTTGGCACCTACGGTAGAG\n",
      "***** ALIGNMENT *****\n",
      "** Alignment HSP **\n",
      "sequence: gi|1297094188|gb|MG431552.1| Schrebera arborea cytochrome c oxidase subunit III (cox3) gene, complete cds; mitochondrial\n",
      "length: 798\n",
      "e_value: 7.51688e-92\n",
      "TGGGCCTCATATTTATCCTATATACCATGTTCGTATGGTGGCGCGATGTTCTACGTGAATCCACGTTCGAAGGACATCATACCAAAGTCGTACAATTAGGACCTCGATATGGTTTTATTCTGTTTATCGTATCGGAGGTTATGTTCTTTTTTGCTCTTTTTCGGGCTTCTTCTCATTCTTCTTTGGCACCTACGGTAGAG\n",
      "||||||||||||||||||||||||||||||||||||||||||||||||||||||||||||||||||| ||||||||||||||||||||||||||||||||||||||||||||||||||||| ||||||||||||||||||||||||||||||||| ||||||||||||||||||||||||||||||||||||||||||||\n",
      "TGGGCCTCATATTTATCCTATATACCATGTTCGTATGGTGGCGCGATGTTCTACGTGAATCCACGTTGGAAGGACATCATACCAAAGTCGTACAATTAGGACCTCGATATGGTTTTATTCTTTTTATCGTATCGGAGGTTATGTTCTTTTTTGCTTTTTTTCGGGCTTCTTCTCATTCTTCTTTGGCACCTACGGTAGAG\n",
      "***** ALIGNMENT *****\n",
      "** Alignment HSP **\n",
      "sequence: gi|1297094179|gb|MG431549.1| Nestegis apetala cytochrome c oxidase subunit III (cox3) gene, complete cds; mitochondrial\n",
      "length: 798\n",
      "e_value: 7.51688e-92\n",
      "TGGGCCTCATATTTATCCTATATACCATGTTCGTATGGTGGCGCGATGTTCTACGTGAATCCACGTTCGAAGGACATCATACCAAAGTCGTACAATTAGGACCTCGATATGGTTTTATTCTGTTTATCGTATCGGAGGTTATGTTCTTTTTTGCTCTTTTTCGGGCTTCTTCTCATTCTTCTTTGGCACCTACGGTAGAG\n",
      "||||||||||||||||||||||||||||||||||||||||||||||||||||||||||||||||||| ||||||||||||||||||||||||||||||||||||||||||||||||||||| ||||||||||||||||||||||||||||||||| ||||||||||||||||||||||||||||||||||||||||||||\n",
      "TGGGCCTCATATTTATCCTATATACCATGTTCGTATGGTGGCGCGATGTTCTACGTGAATCCACGTTGGAAGGACATCATACCAAAGTCGTACAATTAGGACCTCGATATGGTTTTATTCTTTTTATCGTATCGGAGGTTATGTTCTTTTTTGCTTTTTTTCGGGCTTCTTCTCATTCTTCTTTGGCACCTACGGTAGAG\n",
      "***** ALIGNMENT *****\n",
      "** Alignment HSP **\n",
      "sequence: gi|1297094176|gb|MG431548.1| Fraxinus ornus cytochrome c oxidase subunit III (cox3) gene, complete cds; mitochondrial\n",
      "length: 798\n",
      "e_value: 7.51688e-92\n",
      "TGGGCCTCATATTTATCCTATATACCATGTTCGTATGGTGGCGCGATGTTCTACGTGAATCCACGTTCGAAGGACATCATACCAAAGTCGTACAATTAGGACCTCGATATGGTTTTATTCTGTTTATCGTATCGGAGGTTATGTTCTTTTTTGCTCTTTTTCGGGCTTCTTCTCATTCTTCTTTGGCACCTACGGTAGAG\n",
      "||||||||||||||||||||||||||||||||||||||||||||||||||||||||||||||||||| ||||||||||||||||||||||||||||||||||||||||||||||||||||| ||||||||||||||||||||||||||||||||| ||||||||||||||||||||||||||||||||||||||||||||\n",
      "TGGGCCTCATATTTATCCTATATACCATGTTCGTATGGTGGCGCGATGTTCTACGTGAATCCACGTTGGAAGGACATCATACCAAAGTCGTACAATTAGGACCTCGATATGGTTTTATTCTTTTTATCGTATCGGAGGTTATGTTCTTTTTTGCTTTTTTTCGGGCTTCTTCTCATTCTTCTTTGGCACCTACGGTAGAG\n",
      "***** ALIGNMENT *****\n",
      "** Alignment HSP **\n",
      "sequence: gi|1297094173|gb|MG431547.1| Forsythia x intermedia cytochrome c oxidase subunit III (cox3) gene, complete cds; mitochondrial\n",
      "length: 798\n",
      "e_value: 7.51688e-92\n",
      "TGGGCCTCATATTTATCCTATATACCATGTTCGTATGGTGGCGCGATGTTCTACGTGAATCCACGTTCGAAGGACATCATACCAAAGTCGTACAATTAGGACCTCGATATGGTTTTATTCTGTTTATCGTATCGGAGGTTATGTTCTTTTTTGCTCTTTTTCGGGCTTCTTCTCATTCTTCTTTGGCACCTACGGTAGAG\n",
      "||||||||||||||||||||||||||||||||||||||||||||||||||||||||||||||||||| ||||||||||||||||||||||||||||||||||||||||||||||||||||| ||||||||||||||||||||||||||||||||| ||||||||||||||||||||||||||||||||||||||||||||\n",
      "TGGGCCTCATATTTATCCTATATACCATGTTCGTATGGTGGCGCGATGTTCTACGTGAATCCACGTTGGAAGGACATCATACCAAAGTCGTACAATTAGGACCTCGATATGGTTTTATTCTTTTTATCGTATCGGAGGTTATGTTCTTTTTTGCTTTTTTTCGGGCTTCTTCTCATTCTTCTTTGGCACCTACGGTAGAG\n",
      "***** ALIGNMENT *****\n",
      "** Alignment HSP **\n",
      "sequence: gi|1297094170|gb|MG431546.1| Forestiera isabelae cytochrome c oxidase subunit III (cox3) gene, complete cds; mitochondrial\n",
      "length: 798\n",
      "e_value: 7.51688e-92\n",
      "TGGGCCTCATATTTATCCTATATACCATGTTCGTATGGTGGCGCGATGTTCTACGTGAATCCACGTTCGAAGGACATCATACCAAAGTCGTACAATTAGGACCTCGATATGGTTTTATTCTGTTTATCGTATCGGAGGTTATGTTCTTTTTTGCTCTTTTTCGGGCTTCTTCTCATTCTTCTTTGGCACCTACGGTAGAG\n",
      "||||||||||||||||||||||||||||||||||||||||||||||||||||||||||||||||||| ||||||||||||||||||||||||||||||||||||||||||||||||||||| ||||||||||||||||||||||||||||||||| ||||||||||||||||||||||||||||||||||||||||||||\n",
      "TGGGCCTCATATTTATCCTATATACCATGTTCGTATGGTGGCGCGATGTTCTACGTGAATCCACGTTGGAAGGACATCATACCAAAGTCGTACAATTAGGACCTCGATATGGTTTTATTCTTTTTATCGTATCGGAGGTTATGTTCTTTTTTGCTTTTTTTCGGGCTTCTTCTCATTCTTCTTTGGCACCTACGGTAGAG\n",
      "***** ALIGNMENT *****\n",
      "** Alignment HSP **\n",
      "sequence: gi|1297094164|gb|MG431544.1| Chionanthus parkinsonii cytochrome c oxidase subunit III (cox3) gene, complete cds; mitochondrial\n",
      "length: 798\n",
      "e_value: 7.51688e-92\n",
      "TGGGCCTCATATTTATCCTATATACCATGTTCGTATGGTGGCGCGATGTTCTACGTGAATCCACGTTCGAAGGACATCATACCAAAGTCGTACAATTAGGACCTCGATATGGTTTTATTCTGTTTATCGTATCGGAGGTTATGTTCTTTTTTGCTCTTTTTCGGGCTTCTTCTCATTCTTCTTTGGCACCTACGGTAGAG\n",
      "||||||||||||||||||||||||||||||||||||||||||||||||||||||||||||||||||| ||||||||||||||||||||||||||||||||||||||||||||||||||||| ||||||||||||||||||||||||||||||||| ||||||||||||||||||||||||||||||||||||||||||||\n",
      "TGGGCCTCATATTTATCCTATATACCATGTTCGTATGGTGGCGCGATGTTCTACGTGAATCCACGTTGGAAGGACATCATACCAAAGTCGTACAATTAGGACCTCGATATGGTTTTATTCTTTTTATCGTATCGGAGGTTATGTTCTTTTTTGCTTTTTTTCGGGCTTCTTCTCATTCTTCTTTGGCACCTACGGTAGAG\n",
      "***** ALIGNMENT *****\n",
      "** Alignment HSP **\n",
      "sequence: gi|1297087367|gb|MG372121.1| Olea europaea subsp. laperrinei isolate Adjelella 10 mitochondrion, complete genome\n",
      "length: 710688\n",
      "e_value: 7.51688e-92\n",
      "TGGGCCTCATATTTATCCTATATACCATGTTCGTATGGTGGCGCGATGTTCTACGTGAATCCACGTTCGAAGGACATCATACCAAAGTCGTACAATTAGGACCTCGATATGGTTTTATTCTGTTTATCGTATCGGAGGTTATGTTCTTTTTTGCTCTTTTTCGGGCTTCTTCTCATTCTTCTTTGGCACCTACGGTAGAG\n",
      "||||||||||||||||||||||||||||||||||||||||||||||||||||||||||||||||||| ||||||||||||||||||||||||||||||||||||||||||||||||||||| ||||||||||||||||||||||||||||||||| ||||||||||||||||||||||||||||||||||||||||||||\n",
      "TGGGCCTCATATTTATCCTATATACCATGTTCGTATGGTGGCGCGATGTTCTACGTGAATCCACGTTGGAAGGACATCATACCAAAGTCGTACAATTAGGACCTCGATATGGTTTTATTCTTTTTATCGTATCGGAGGTTATGTTCTTTTTTGCTTTTTTTCGGGCTTCTTCTCATTCTTCTTTGGCACCTACGGTAGAG\n",
      "** Alignment HSP **\n",
      "sequence: gi|1297087367|gb|MG372121.1| Olea europaea subsp. laperrinei isolate Adjelella 10 mitochondrion, complete genome\n",
      "length: 710688\n",
      "e_value: 1.04764e-26\n",
      "TCGTACAATTAGGACCTCGATATGGTTTTATTCTGTTTATCGTATCGGAGGTTATGTTCTTTTTTGCTCTTTTTCGG\n",
      "|||||||||||||||||||||||||||||||||| ||||||||||||||||||||||||||||||||| ||||||||\n",
      "TCGTACAATTAGGACCTCGATATGGTTTTATTCTTTTTATCGTATCGGAGGTTATGTTCTTTTTTGCTTTTTTTCGG\n",
      "***** ALIGNMENT *****\n",
      "** Alignment HSP **\n",
      "sequence: gi|1297086751|gb|MG372120.1| Olea europaea subsp. guanchica isolate La Gomera 10 mitochondrion, complete genome\n",
      "length: 694631\n",
      "e_value: 7.51688e-92\n",
      "TGGGCCTCATATTTATCCTATATACCATGTTCGTATGGTGGCGCGATGTTCTACGTGAATCCACGTTCGAAGGACATCATACCAAAGTCGTACAATTAGGACCTCGATATGGTTTTATTCTGTTTATCGTATCGGAGGTTATGTTCTTTTTTGCTCTTTTTCGGGCTTCTTCTCATTCTTCTTTGGCACCTACGGTAGAG\n",
      "||||||||||||||||||||||||||||||||||||||||||||||||||||||||||||||||||| ||||||||||||||||||||||||||||||||||||||||||||||||||||| ||||||||||||||||||||||||||||||||| ||||||||||||||||||||||||||||||||||||||||||||\n",
      "TGGGCCTCATATTTATCCTATATACCATGTTCGTATGGTGGCGCGATGTTCTACGTGAATCCACGTTGGAAGGACATCATACCAAAGTCGTACAATTAGGACCTCGATATGGTTTTATTCTTTTTATCGTATCGGAGGTTATGTTCTTTTTTGCTTTTTTTCGGGCTTCTTCTCATTCTTCTTTGGCACCTACGGTAGAG\n",
      "** Alignment HSP **\n",
      "sequence: gi|1297086751|gb|MG372120.1| Olea europaea subsp. guanchica isolate La Gomera 10 mitochondrion, complete genome\n",
      "length: 694631\n",
      "e_value: 1.04764e-26\n",
      "TCGTACAATTAGGACCTCGATATGGTTTTATTCTGTTTATCGTATCGGAGGTTATGTTCTTTTTTGCTCTTTTTCGG\n",
      "|||||||||||||||||||||||||||||||||| ||||||||||||||||||||||||||||||||| ||||||||\n",
      "TCGTACAATTAGGACCTCGATATGGTTTTATTCTTTTTATCGTATCGGAGGTTATGTTCTTTTTTGCTTTTTTTCGG\n",
      "***** ALIGNMENT *****\n",
      "** Alignment HSP **\n",
      "sequence: gi|1297074574|gb|MG372117.1| Olea europaea subsp. europaea isolate Stavrovouni Monastery 11 mitochondrion, complete genome\n",
      "length: 710737\n",
      "e_value: 7.51688e-92\n",
      "TGGGCCTCATATTTATCCTATATACCATGTTCGTATGGTGGCGCGATGTTCTACGTGAATCCACGTTCGAAGGACATCATACCAAAGTCGTACAATTAGGACCTCGATATGGTTTTATTCTGTTTATCGTATCGGAGGTTATGTTCTTTTTTGCTCTTTTTCGGGCTTCTTCTCATTCTTCTTTGGCACCTACGGTAGAG\n",
      "||||||||||||||||||||||||||||||||||||||||||||||||||||||||||||||||||| ||||||||||||||||||||||||||||||||||||||||||||||||||||| ||||||||||||||||||||||||||||||||| ||||||||||||||||||||||||||||||||||||||||||||\n",
      "TGGGCCTCATATTTATCCTATATACCATGTTCGTATGGTGGCGCGATGTTCTACGTGAATCCACGTTGGAAGGACATCATACCAAAGTCGTACAATTAGGACCTCGATATGGTTTTATTCTTTTTATCGTATCGGAGGTTATGTTCTTTTTTGCTTTTTTTCGGGCTTCTTCTCATTCTTCTTTGGCACCTACGGTAGAG\n",
      "** Alignment HSP **\n",
      "sequence: gi|1297074574|gb|MG372117.1| Olea europaea subsp. europaea isolate Stavrovouni Monastery 11 mitochondrion, complete genome\n",
      "length: 710737\n",
      "e_value: 1.04764e-26\n",
      "TCGTACAATTAGGACCTCGATATGGTTTTATTCTGTTTATCGTATCGGAGGTTATGTTCTTTTTTGCTCTTTTTCGG\n",
      "|||||||||||||||||||||||||||||||||| ||||||||||||||||||||||||||||||||| ||||||||\n",
      "TCGTACAATTAGGACCTCGATATGGTTTTATTCTTTTTATCGTATCGGAGGTTATGTTCTTTTTTGCTTTTTTTCGG\n",
      "***** ALIGNMENT *****\n",
      "** Alignment HSP **\n",
      "sequence: gi|1035438663|gb|KT959112.1| Castilleja paramensis mitochondrion, complete genome\n",
      "length: 495499\n",
      "e_value: 7.51688e-92\n",
      "TGGGCCTCATATTTATCCTATATACCATGTTCGTATGGTGGCGCGATGTTCTACGTGAATCCACGTTCGAAGGACATCATACCAAAGTCGTACAATTAGGACCTCGATATGGTTTTATTCTGTTTATCGTATCGGAGGTTATGTTCTTTTTTGCTCTTTTTCGGGCTTCTTCTCATTCTTCTTTGGCACCTACGGTAGAG\n",
      "||||||||||||||||||||||||||||||||||||||||||||||||||||||||||||||||||| ||||||||||||||||||||||||||||||||||||||||||||||||||||| ||||||||||||||||||||||||||||||||| ||||||||||||||||||||||||||||||||||||||||||||\n",
      "TGGGCCTCATATTTATCCTATATACCATGTTCGTATGGTGGCGCGATGTTCTACGTGAATCCACGTTGGAAGGACATCATACCAAAGTCGTACAATTAGGACCTCGATATGGTTTTATTCTTTTTATCGTATCGGAGGTTATGTTCTTTTTTGCTTTTTTTCGGGCTTCTTCTCATTCTTCTTTGGCACCTACGGTAGAG\n",
      "***** ALIGNMENT *****\n",
      "** Alignment HSP **\n",
      "sequence: gi|1064265668|gb|KX545367.1| Hesperelaea palmeri voucher E. Palmer 81 (MO) mitochondrion, complete genome\n",
      "length: 658522\n",
      "e_value: 7.51688e-92\n",
      "TGGGCCTCATATTTATCCTATATACCATGTTCGTATGGTGGCGCGATGTTCTACGTGAATCCACGTTCGAAGGACATCATACCAAAGTCGTACAATTAGGACCTCGATATGGTTTTATTCTGTTTATCGTATCGGAGGTTATGTTCTTTTTTGCTCTTTTTCGGGCTTCTTCTCATTCTTCTTTGGCACCTACGGTAGAG\n",
      "||||||||||||||||||||||||||||||||||||||||||||||||||||||||||||||||||| ||||||||||||||||||||||||||||||||||||||||||||||||||||| ||||||||||||||||||||||||||||||||| ||||||||||||||||||||||||||||||||||||||||||||\n",
      "TGGGCCTCATATTTATCCTATATACCATGTTCGTATGGTGGCGCGATGTTCTACGTGAATCCACGTTGGAAGGACATCATACCAAAGTCGTACAATTAGGACCTCGATATGGTTTTATTCTTTTTATCGTATCGGAGGTTATGTTCTTTTTTGCTTTTTTTCGGGCTTCTTCTCATTCTTCTTTGGCACCTACGGTAGAG\n",
      "** Alignment HSP **\n",
      "sequence: gi|1064265668|gb|KX545367.1| Hesperelaea palmeri voucher E. Palmer 81 (MO) mitochondrion, complete genome\n",
      "length: 658522\n",
      "e_value: 1.04764e-26\n",
      "TCGTACAATTAGGACCTCGATATGGTTTTATTCTGTTTATCGTATCGGAGGTTATGTTCTTTTTTGCTCTTTTTCGG\n",
      "|||||||||||||||||||||||||||||||||| ||||||||||||||||||||||||||||||||| ||||||||\n",
      "TCGTACAATTAGGACCTCGATATGGTTTTATTCTTTTTATCGTATCGGAGGTTATGTTCTTTTTTGCTTTTTTTCGG\n",
      "***** ALIGNMENT *****\n",
      "** Alignment HSP **\n",
      "sequence: gi|916446323|gb|KT179395.1| Nepeta cataria voucher Aust 177 cytochrome c oxidase subunit 3 (coxIII) gene, complete cds; mitochondrial\n",
      "length: 798\n",
      "e_value: 7.51688e-92\n",
      "TGGGCCTCATATTTATCCTATATACCATGTTCGTATGGTGGCGCGATGTTCTACGTGAATCCACGTTCGAAGGACATCATACCAAAGTCGTACAATTAGGACCTCGATATGGTTTTATTCTGTTTATCGTATCGGAGGTTATGTTCTTTTTTGCTCTTTTTCGGGCTTCTTCTCATTCTTCTTTGGCACCTACGGTAGAG\n",
      "||||||||||||||||||||||||||||||||||||||||||||||||||||||||||||||||||| ||||||||||||||||||||||||||||||||||||||||||||||||||||| ||||||||||||||||||||||||||||||||| ||||||||||||||||||||||||||||||||||||||||||||\n",
      "TGGGCCTCATATTTATCCTATATACCATGTTCGTATGGTGGCGCGATGTTCTACGTGAATCCACGTTGGAAGGACATCATACCAAAGTCGTACAATTAGGACCTCGATATGGTTTTATTCTTTTTATCGTATCGGAGGTTATGTTCTTTTTTGCTTTTTTTCGGGCTTCTTCTCATTCTTCTTTGGCACCTACGGTAGAG\n"
     ]
    }
   ],
   "source": [
    "E_THRESH = 0.01\n",
    "for al in blast_record.alignments:\n",
    "    print(\"***** ALIGNMENT *****\")\n",
    "    for hsp in al.hsps:\n",
    "        if hsp.expect < E_THRESH:\n",
    "            print(\"** Alignment HSP **\")\n",
    "            print('sequence:', al.title)\n",
    "            print('length:', al.length)\n",
    "            print('e_value:', hsp.expect)\n",
    "            print(hsp.query)\n",
    "            print(hsp.match)\n",
    "            print(hsp.sbjct)"
   ]
  },
  {
   "cell_type": "code",
   "execution_count": 15,
   "metadata": {
    "scrolled": false
   },
   "outputs": [
    {
     "name": "stdout",
     "output_type": "stream",
     "text": [
      "***Module  <module 'Bio' from '/home/ipoole/Documents/MyStudy/BiopythonStudy/venv/lib/python3.6/site-packages/Bio/__init__.py'>\n",
      "   Align\n",
      "   Alphabet\n",
      "   BiopythonDeprecationWarning\n",
      "   BiopythonExperimentalWarning\n",
      "   BiopythonParserWarning\n",
      "   BiopythonWarning\n",
      "   Blast\n",
      "   Data\n",
      "   Entrez\n",
      "   MissingExternalDependencyError\n",
      "   MissingPythonDependencyError\n",
      "   Seq\n",
      "   SeqRecord\n",
      "   __builtins__\n",
      "   __cached__\n",
      "   __doc__\n",
      "   __file__\n",
      "   __loader__\n",
      "   __name__\n",
      "   __package__\n",
      "   __path__\n",
      "   __spec__\n",
      "   __version__\n",
      "   _py3k\n",
      "\n",
      "***Module  <module 'Bio.Seq' from '/home/ipoole/Documents/MyStudy/BiopythonStudy/venv/lib/python3.6/site-packages/Bio/Seq.py'>\n",
      "   Alphabet\n",
      "   BiopythonWarning\n",
      "   CodonTable\n",
      "   IUPAC\n",
      "   MutableSeq\n",
      "   Seq\n",
      "   UnknownSeq\n",
      "   __builtins__\n",
      "   __cached__\n",
      "   __doc__\n",
      "   __file__\n",
      "   __loader__\n",
      "   __name__\n",
      "   __package__\n",
      "   __spec__\n",
      "   _dna_complement_table\n",
      "   _maketrans\n",
      "   _rna_complement_table\n",
      "   _test\n",
      "   _translate_str\n",
      "   ambiguous_dna_complement\n",
      "   ambiguous_rna_complement\n",
      "   array\n",
      "   back_transcribe\n",
      "   basestring\n",
      "   complement\n",
      "   print_function\n",
      "   range\n",
      "   reverse_complement\n",
      "   string\n",
      "   sys\n",
      "   transcribe\n",
      "   translate\n",
      "   warnings\n",
      "\n",
      "***Module  <module 'Bio.Align' from '/home/ipoole/Documents/MyStudy/BiopythonStudy/venv/lib/python3.6/site-packages/Bio/Align/__init__.py'>\n",
      "   Alphabet\n",
      "   MultipleSeqAlignment\n",
      "   PairwiseAligner\n",
      "   PairwiseAlignment\n",
      "   PairwiseAlignments\n",
      "   Seq\n",
      "   SeqRecord\n",
      "   _RestrictedDict\n",
      "   __builtins__\n",
      "   __cached__\n",
      "   __doc__\n",
      "   __file__\n",
      "   __loader__\n",
      "   __name__\n",
      "   __package__\n",
      "   __path__\n",
      "   __spec__\n",
      "   _aligners\n",
      "   print_function\n",
      "   sys\n",
      "\n",
      "***Module  <module 'Bio.Alphabet' from '/home/ipoole/Documents/MyStudy/BiopythonStudy/venv/lib/python3.6/site-packages/Bio/Alphabet/__init__.py'>\n",
      "   Alphabet\n",
      "   AlphabetEncoder\n",
      "   DNAAlphabet\n",
      "   Gapped\n",
      "   HasStopCodon\n",
      "   IUPAC\n",
      "   NucleotideAlphabet\n",
      "   ProteinAlphabet\n",
      "   RNAAlphabet\n",
      "   SecondaryStructure\n",
      "   SingleLetterAlphabet\n",
      "   ThreeLetterProtein\n",
      "   __builtins__\n",
      "   __cached__\n",
      "   __doc__\n",
      "   __file__\n",
      "   __loader__\n",
      "   __name__\n",
      "   __package__\n",
      "   __path__\n",
      "   __spec__\n",
      "   _check_type_compatible\n",
      "   _consensus_alphabet\n",
      "   _consensus_base_alphabet\n",
      "   _get_base_alphabet\n",
      "   _ungap\n",
      "   _verify_alphabet\n",
      "   generic_alphabet\n",
      "   generic_dna\n",
      "   generic_nucleotide\n",
      "   generic_protein\n",
      "   generic_rna\n",
      "   single_letter_alphabet\n",
      "\n"
     ]
    }
   ],
   "source": [
    "import Bio\n",
    "\n",
    "def show(m):\n",
    "    print(\"***Module \", m)    \n",
    "    print(\"   \" + \"\\n   \".join(dir(m)))\n",
    "    print()\n",
    "\n",
    "show(Bio)\n",
    "show(Bio.Seq)\n",
    "show(Bio.Align)\n",
    "show(Bio.Alphabet)\n",
    "\n"
   ]
  },
  {
   "cell_type": "code",
   "execution_count": 16,
   "metadata": {},
   "outputs": [],
   "source": [
    "import Bio.Pathway"
   ]
  },
  {
   "cell_type": "code",
   "execution_count": 17,
   "metadata": {},
   "outputs": [],
   "source": [
    "import Bio.SeqIO"
   ]
  },
  {
   "cell_type": "code",
   "execution_count": 18,
   "metadata": {},
   "outputs": [
    {
     "data": {
      "text/plain": [
       "'ATCG'"
      ]
     },
     "execution_count": 18,
     "metadata": {},
     "output_type": "execute_result"
    }
   ],
   "source": [
    "Bio.Seq.reverse_complement(\"CGAT\")"
   ]
  },
  {
   "cell_type": "code",
   "execution_count": 19,
   "metadata": {},
   "outputs": [
    {
     "name": "stdout",
     "output_type": "stream",
     "text": [
      "TGGGCCTCATATTTATCCTATATACCATGTTCGTATGGTGGCGCGATGTTCTACGTGAATCCACGTTCGAAGGACATCATACCAAAGTCGTAC\n",
      "AATTAGGACCTCGATATGGTTTTATTCTGTTTATCGTATCGGAGGTTATGTTCTTTTTTGCTCTTTTTCGGGCTTCTTCTCATTCTTCTTTGGCAC\n",
      "CTACGGTAGAG\n",
      "****\n",
      "CTCTACCGTAG\n",
      "GTGCCAAAGAAGAATGAGAAGAAGCCCGAAAAAGAGCAAAAAAGAACATAACCTCCGATACGATAAACAGAATAAAACCATATCGAGGTCCTAATT\n",
      "GTACGACTTTGGTATGATGTCCTTCGAACGTGGATTCACGTAGAACATCGCGCCACCATACGAACATGGTATATAGGATAAATATGAGGCCCA\n"
     ]
    }
   ],
   "source": [
    "from Bio.Seq import Seq\n",
    "\n",
    "seq_string = open(\"quiz_sequence.txt\").read()\n",
    "my_seq = Seq(seq_string)\n",
    "print(my_seq)\n",
    "print(\"****\")\n",
    "print(my_seq.reverse_complement())\n"
   ]
  },
  {
   "cell_type": "code",
   "execution_count": 20,
   "metadata": {},
   "outputs": [
    {
     "data": {
      "text/plain": [
       "['NCBIWWW',\n",
       " 'NCBIXML',\n",
       " 'Record',\n",
       " '__builtins__',\n",
       " '__cached__',\n",
       " '__doc__',\n",
       " '__file__',\n",
       " '__loader__',\n",
       " '__name__',\n",
       " '__package__',\n",
       " '__path__',\n",
       " '__spec__']"
      ]
     },
     "execution_count": 20,
     "metadata": {},
     "output_type": "execute_result"
    }
   ],
   "source": [
    "dir(Bio.Blast)"
   ]
  },
  {
   "cell_type": "code",
   "execution_count": 21,
   "metadata": {},
   "outputs": [
    {
     "data": {
      "text/plain": [
       "Seq('WASYLSYIPCSYGGAMFYVNPRSKDIIPKSYN*DLDMVLFCLSYRRLCSFLLFF...R*X', HasStopCodon(ExtendedIUPACProtein(), '*'))"
      ]
     },
     "execution_count": 21,
     "metadata": {},
     "output_type": "execute_result"
    }
   ],
   "source": [
    "q5_seq_str = \"TGGGCCTCATATTTATCCTATATACCATGTTCGTATGGTGGCGCGATGTTCTACGTGAATCCACGTTCGAAGGACATCATACCAAAGTCGTAC\\\n",
    "AATTAGGACCTCGATATGGTTTTATTCTGTTTATCGTATCGGAGGTTATGTTCTTTTTTGCTCTTTTTCGGGCTTCTTCTCATTCTTCTTTGGCAC\\\n",
    "CTACGGTAGAGN\"\n",
    "\n",
    "q5_seq = Seq(q5_seq_str)\n",
    "q5_seq.translate()"
   ]
  },
  {
   "cell_type": "code",
   "execution_count": 22,
   "metadata": {},
   "outputs": [
    {
     "data": {
      "text/plain": [
       "'https://blast.ncbi.nlm.nih.gov/Blast.cgi'"
      ]
     },
     "execution_count": 22,
     "metadata": {},
     "output_type": "execute_result"
    }
   ],
   "source": [
    "NCBIWWW.NCBI_BLAST_URL"
   ]
  },
  {
   "cell_type": "code",
   "execution_count": 23,
   "metadata": {},
   "outputs": [
    {
     "name": "stdout",
     "output_type": "stream",
     "text": [
      "No Python documentation found for 'NCBIWWW.print_function'.\n",
      "Use help() to get the interactive help utility.\n",
      "Use help(str) for help on the str class.\n",
      "\n"
     ]
    }
   ],
   "source": [
    "help('NCBIWWW.print_function')"
   ]
  },
  {
   "cell_type": "code",
   "execution_count": 24,
   "metadata": {},
   "outputs": [
    {
     "data": {
      "text/plain": [
       "['NCBIWWW',\n",
       " 'NCBIXML',\n",
       " 'Record',\n",
       " '__builtins__',\n",
       " '__cached__',\n",
       " '__doc__',\n",
       " '__file__',\n",
       " '__loader__',\n",
       " '__name__',\n",
       " '__package__',\n",
       " '__path__',\n",
       " '__spec__']"
      ]
     },
     "execution_count": 24,
     "metadata": {},
     "output_type": "execute_result"
    }
   ],
   "source": [
    "dir(Bio.Blast)"
   ]
  },
  {
   "cell_type": "code",
   "execution_count": null,
   "metadata": {},
   "outputs": [],
   "source": []
  }
 ],
 "metadata": {
  "kernelspec": {
   "display_name": "biopython",
   "language": "python",
   "name": "biopython"
  },
  "language_info": {
   "codemirror_mode": {
    "name": "ipython",
    "version": 3
   },
   "file_extension": ".py",
   "mimetype": "text/x-python",
   "name": "python",
   "nbconvert_exporter": "python",
   "pygments_lexer": "ipython3",
   "version": "3.6.5"
  }
 },
 "nbformat": 4,
 "nbformat_minor": 2
}
