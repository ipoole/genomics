{
 "cells": [
  {
   "cell_type": "markdown",
   "metadata": {},
   "source": [
    "# Product Force - The Variant Bunch\n",
    "February 22nd 2019\n",
    "\n",
    "Lets readf in a ClinVar download, plot some histograms."
   ]
  },
  {
   "cell_type": "code",
   "execution_count": 7,
   "metadata": {},
   "outputs": [],
   "source": [
    "import pandas as pd\n",
    "import numpy as np\n",
    "from collections import Counter\n",
    "import json"
   ]
  },
  {
   "cell_type": "code",
   "execution_count": 8,
   "metadata": {},
   "outputs": [],
   "source": [
    "import matplotlib.pyplot as plt\n",
    "%matplotlib inline"
   ]
  },
  {
   "cell_type": "code",
   "execution_count": 9,
   "metadata": {},
   "outputs": [
    {
     "name": "stdout",
     "output_type": "stream",
     "text": [
      "['GRN', 'CFTR']\n",
      "test_extract_first_genes: passed.\n"
     ]
    }
   ],
   "source": [
    "# Extract genes column.   Some show multiple genes/locations - e.g. \"CFTR|LOC11167447\".  For now, just take the fires\n",
    "\n",
    "def extract_first_genes(df_):\n",
    "    \"\"\" Return a list of genes, extracting only one (the first one) per row \"\"\"\n",
    "    nrows, ncolumns = df_.shape\n",
    "    all_genes = df_['Gene(s)']\n",
    "    single_genes = [g.split('|')[0] for g in all_genes]\n",
    "    assert len(single_genes) == nrows\n",
    "    return single_genes\n",
    "\n",
    "def test_extract_first_genes():\n",
    "    data = {'Gene(s)': ['GRN|LOC1234', 'CFTR'],\n",
    "            'Review Status':['None', 'None']}\n",
    "    df = pd.DataFrame(data)\n",
    "    genes = extract_first_genes(df)\n",
    "    print(genes)\n",
    "    assert len(genes) == 2\n",
    "    print(\"test_extract_first_genes: passed.\")\n",
    "    \n",
    "test_extract_first_genes()"
   ]
  },
  {
   "cell_type": "code",
   "execution_count": 10,
   "metadata": {},
   "outputs": [],
   "source": [
    "def extract_significance(df_):\n",
    "    \"\"\" Returns a list of significance strings, one for each row \"\"\"\n",
    "    nrows, ncolumns = df_.shape\n",
    "    sigs = df_['Clinical significance (Last reviewed)']\n",
    "    cleaned_sigs = [s.split('(')[0] for s in sigs]\n",
    "    return cleaned_sigs\n",
    "\n",
    "def test_extract_significance():\n",
    "    data = {'Gene(s)': ['GRN|LOC1234', 'CFTR', 'CTFR'],\n",
    "            'Clinical significance (Last reviewed)':\n",
    "                ['Pathogenic(12 May 2010)', 'Pathogenic(21 June 2015)', 'Benign']}\n",
    "    df = pd.DataFrame(data)\n",
    "    sigs = extract_significance(df)\n",
    "    assert len(sigs) == 3\n",
    "    assert len(set(sigs)) == 2\n",
    "    print(sigs)\n",
    "    print(\"test_extract_significance: passed.\")\n",
    "    \n",
    "# test_extract_significance()\n",
    "    "
   ]
  },
  {
   "cell_type": "code",
   "execution_count": 11,
   "metadata": {},
   "outputs": [
    {
     "data": {
      "image/png": "[encoded data removed]",
      "text/plain": [
       "<Figure size 432x288 with 1 Axes>"
      ]
     },
     "metadata": {
      "needs_background": "light"
     },
     "output_type": "display_data"
    },
    {
     "data": {
      "image/png": "[encoded data removed]",
      "text/plain": [
       "<Figure size 432x288 with 1 Axes>"
      ]
     },
     "metadata": {
      "needs_background": "light"
     },
     "output_type": "display_data"
    },
    {
     "name": "stdout",
     "output_type": "stream",
     "text": [
      "test_plot_gene_histogram: passed.\n"
     ]
    }
   ],
   "source": [
    "def plot_gene_histogram(genes, logorlinear='linear'):\n",
    "    \"\"\" Given a list of gene names, plot a histogram of gene counts\"\"\"\n",
    "    assert logorlinear in ('log', 'linear')\n",
    "    gene_counts = Counter(genes)\n",
    "    gene_names = gene_counts.keys()\n",
    "    counts = gene_counts.values()\n",
    "    bar_pos = np.arange(len(gene_names))\n",
    "\n",
    "    plt.bar(gene_names, counts, align='center', alpha=0.5)\n",
    "    plt.xticks(bar_pos, gene_names)\n",
    "    plt.ylabel('Gene Counts')\n",
    "    plt.xticks(rotation='vertical')\n",
    "    plt.yscale(logorlinear)\n",
    "    plt.title('Clinvar Gene Hits')\n",
    "    plt.show()\n",
    "    \n",
    "def test_plot_gene_histogram():\n",
    "    test_genes = [\"GRN\", \"CFTR\", \"CFTR\"]\n",
    "    plot_gene_histogram(test_genes)\n",
    "    plot_gene_histogram(test_genes, 'log')\n",
    "    print(\"test_plot_gene_histogram: passed.\")\n",
    "    \n",
    "test_plot_gene_histogram()"
   ]
  },
  {
   "cell_type": "code",
   "execution_count": 12,
   "metadata": {},
   "outputs": [
    {
     "name": "stdout",
     "output_type": "stream",
     "text": [
      "{'Pathogenic': 3, 'Benign': 2}\n"
     ]
    }
   ],
   "source": [
    "def plot_gene_with_significance_histogram(genes, sigs, logorlinear='linear'):\n",
    "    \"\"\" Given a list of gene names and parallel list of significances, plot a histogram of gene counts\n",
    "    stacked by significance\"\"\"\n",
    "    assert logorlinear in ('log', 'linear')\n",
    "    gene_counts = Counter(genes)\n",
    "    gene_names = gene_counts.keys()\n",
    "    counts = gene_counts.values()\n",
    "    \n",
    "    gene_set = set(genes)\n",
    "    sigs_set = set(sigs)\n",
    "    gene_sigs = {}\n",
    "    for sig in sigs_set:\n",
    "        gsig_counts = len([g for g,s in zip(genes, sigs) if s==sig])\n",
    "        gene_sigs[sig] = gsig_counts\n",
    "                              \n",
    "    print(gene_sigs)\n",
    "    return\n",
    "            \n",
    "    bar_pos = np.arange(len(gene_names))\n",
    "    plt.bar(gene_sigs,align='center', alpha=0.5)\n",
    "    \n",
    "    \n",
    "    plt.xticks(bar_pos, gene_names)\n",
    "    plt.ylabel('Gene Counts')\n",
    "    plt.xticks(rotation='vertical')\n",
    "    plt.yscale(logorlinear)\n",
    "    plt.title('Clinvar Gene Hits')\n",
    "    plt.show()\n",
    "    \n",
    "def test_plot_gene_with_significance_histogram():\n",
    "    test_genes = [\"GRN\", \"CFTR\", \"CFTR\", \"CFTR\", \"VOX1\"]\n",
    "    test_sigs = [\"Pathogenic\", \"Pathogenic\", \"Benign\", \"Benign\", \"Pathogenic\"]\n",
    "    plot_gene_with_significance_histogram(test_genes, test_sigs)\n",
    "    \n",
    "test_plot_gene_with_significance_histogram()"
   ]
  },
  {
   "cell_type": "code",
   "execution_count": 13,
   "metadata": {},
   "outputs": [
    {
     "name": "stdout",
     "output_type": "stream",
     "text": [
      "[\n",
      "    {\n",
      "        \"name\": \"GRN\",\n",
      "        \"value\": 1\n",
      "    },\n",
      "    {\n",
      "        \"name\": \"CFTR\",\n",
      "        \"value\": 2\n",
      "    }\n",
      "]\n",
      "test_thing_hist_as_json: passed.\n"
     ]
    }
   ],
   "source": [
    "def thing_hist_as_json(thing_list):\n",
    "    \"\"\" Return a count histogram in a json format suitable for passing to Alison's front end.  Thing list is e.g.\n",
    "    a list of names \"\"\"\n",
    "    counts = Counter(thing_list)\n",
    "    jslist = [{'name':key, 'value':counts[key]} for key in counts.keys()]\n",
    "    return json.dumps(jslist, indent=4, sort_keys=True)\n",
    "    \n",
    "def test_thing_hist_as_json():\n",
    "    test_genes = [\"GRN\", \"CFTR\", \"CFTR\"]\n",
    "    json = thing_hist_as_json(test_genes)\n",
    "    print(json)\n",
    "    print(\"test_thing_hist_as_json: passed.\")\n",
    "    \n",
    "test_thing_hist_as_json()   "
   ]
  },
  {
   "cell_type": "code",
   "execution_count": 14,
   "metadata": {},
   "outputs": [
    {
     "name": "stdout",
     "output_type": "stream",
     "text": [
      "Loading clinvar spreadsheet...\n",
      "                                             Name Gene(s)     Condition(s)  \\\n",
      "count                                        1894    1894             1894   \n",
      "unique                                       1894      32               78   \n",
      "top     NM_000492.3(CFTR):c.2908G>A (p.Gly970Ser)    CFTR  Cystic fibrosis   \n",
      "freq                                            1    1352             1053   \n",
      "mean                                          NaN     NaN              NaN   \n",
      "std                                           NaN     NaN              NaN   \n",
      "min                                           NaN     NaN              NaN   \n",
      "25%                                           NaN     NaN              NaN   \n",
      "50%                                           NaN     NaN              NaN   \n",
      "75%                                           NaN     NaN              NaN   \n",
      "max                                           NaN     NaN              NaN   \n",
      "\n",
      "       Clinical significance (Last reviewed)  \\\n",
      "count                                   1894   \n",
      "unique                                   773   \n",
      "top                             not provided   \n",
      "freq                                     364   \n",
      "mean                                     NaN   \n",
      "std                                      NaN   \n",
      "min                                      NaN   \n",
      "25%                                      NaN   \n",
      "50%                                      NaN   \n",
      "75%                                      NaN   \n",
      "max                                      NaN   \n",
      "\n",
      "                              Review status GRCh37Chromosome GRCh37Location  \\\n",
      "count                                  1894             1850           1850   \n",
      "unique                                    7                3           1620   \n",
      "top     criteria provided, single submitter                7      117171029   \n",
      "freq                                    832             1663              4   \n",
      "mean                                    NaN              NaN            NaN   \n",
      "std                                     NaN              NaN            NaN   \n",
      "min                                     NaN              NaN            NaN   \n",
      "25%                                     NaN              NaN            NaN   \n",
      "50%                                     NaN              NaN            NaN   \n",
      "75%                                     NaN              NaN            NaN   \n",
      "max                                     NaN              NaN            NaN   \n",
      "\n",
      "       GRCh38Chromosome GRCh38Location    VariationID AlleleID(s)  Unnamed: 11  \n",
      "count              1841           1841    1894.000000        1894          0.0  \n",
      "unique                3           1613            NaN        1894          NaN  \n",
      "top                   7      117530975            NaN       22206          NaN  \n",
      "freq               1650              4            NaN           1          NaN  \n",
      "mean                NaN            NaN  235568.384372         NaN          NaN  \n",
      "std                 NaN            NaN  226735.262652         NaN          NaN  \n",
      "min                 NaN            NaN    7105.000000         NaN          NaN  \n",
      "25%                 NaN            NaN   53435.250000         NaN          NaN  \n",
      "50%                 NaN            NaN   54086.500000         NaN          NaN  \n",
      "75%                 NaN            NaN  495893.750000         NaN          NaN  \n",
      "max                 NaN            NaN  618964.000000         NaN          NaN  \n"
     ]
    },
    {
     "data": {
      "image/png": "[encoded data removed]",
      "text/plain": [
       "<Figure size 432x288 with 1 Axes>"
      ]
     },
     "metadata": {
      "needs_background": "light"
     },
     "output_type": "display_data"
    },
    {
     "name": "stdout",
     "output_type": "stream",
     "text": [
      "[\n",
      "    {\n",
      "        \"name\": \"ACLY\",\n",
      "        \"value\": 1\n",
      "    },\n",
      "    {\n",
      "        \"name\": \"FZD2\",\n",
      "        \"value\": 1\n",
      "    },\n",
      "    {\n",
      "        \"name\": \"ACACA\",\n",
      "        \"value\": 2\n",
      "    },\n",
      "    {\n",
      "        \"name\": \"AKR1B1\",\n",
      "        \"value\": 1\n",
      "    },\n",
      "    {\n",
      "        \"name\": \"CAPZA2\",\n",
      "        \"value\": 7\n",
      "    },\n",
      "    {\n",
      "        \"name\": \"AOC1\",\n",
      "        \"value\": 11\n",
      "    },\n",
      "    {\n",
      "        \"name\": \"AANAT\",\n",
      "        \"value\": 5\n",
      "    },\n",
      "    {\n",
      "        \"name\": \"DUSP3\",\n",
      "        \"value\": 1\n",
      "    },\n",
      "    {\n",
      "        \"name\": \"ARF5\",\n",
      "        \"value\": 1\n",
      "    },\n",
      "    {\n",
      "        \"name\": \"GRN\",\n",
      "        \"value\": 190\n",
      "    },\n",
      "    {\n",
      "        \"name\": \"ACHE\",\n",
      "        \"value\": 1\n",
      "    },\n",
      "    {\n",
      "        \"name\": \"CFTR\",\n",
      "        \"value\": 1673\n",
      "    }\n",
      "]\n"
     ]
    }
   ],
   "source": [
    "def main():\n",
    "    print(\"Loading clinvar spreadsheet...\")\n",
    "    download_fname = 'clinvar_GRN_OR_CFTR.txt'\n",
    "    df = pd.read_csv(download_fname, sep='\\t')\n",
    "    print(df.describe(include='all'))\n",
    "    \n",
    "    genes = extract_first_genes(df)\n",
    "    \n",
    "    plot_gene_histogram(genes, 'log')\n",
    "    \n",
    "    json = thing_hist_as_json(genes)\n",
    "    print(json)\n",
    "    jsonfile = open(\"clinvar_GRN_OR_CFTR.json\", 'w')\n",
    "    jsonfile.write(json)\n",
    "    jsonfile.close()\n",
    "\n",
    "main()"
   ]
  },
  {
   "cell_type": "code",
   "execution_count": null,
   "metadata": {},
   "outputs": [],
   "source": []
  }
 ],
 "metadata": {
  "kernelspec": {
   "display_name": "Python 3",
   "language": "python",
   "name": "python3"
  },
  "language_info": {
   "codemirror_mode": {
    "name": "ipython",
    "version": 3
   },
   "file_extension": ".py",
   "mimetype": "text/x-python",
   "name": "python",
   "nbconvert_exporter": "python",
   "pygments_lexer": "ipython3",
   "version": "3.5.2"
  }
 },
 "nbformat": 4,
 "nbformat_minor": 2
}
