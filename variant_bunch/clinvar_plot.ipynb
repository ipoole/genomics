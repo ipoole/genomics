{
 "cells": [
  {
   "cell_type": "markdown",
   "metadata": {},
   "source": [
    "# Product Force - The Variant Bunch\n",
    "February 22nd 2019\n",
    "\n",
    "Lets read in a ClinVar download, plot some histograms."
   ]
  },
  {
   "cell_type": "code",
   "execution_count": 1,
   "metadata": {},
   "outputs": [],
   "source": [
    "import pandas as pd\n",
    "import numpy as np\n",
    "from collections import Counter\n",
    "import json"
   ]
  },
  {
   "cell_type": "code",
   "execution_count": 2,
   "metadata": {},
   "outputs": [],
   "source": [
    "import matplotlib.pyplot as plt\n",
    "%matplotlib inline"
   ]
  },
  {
   "cell_type": "code",
   "execution_count": 3,
   "metadata": {},
   "outputs": [
    {
     "name": "stdout",
     "output_type": "stream",
     "text": [
      "['GRN', 'CFTR']\n",
      "test_extract_first_genes: passed.\n"
     ]
    }
   ],
   "source": [
    "# Extract genes column.   Some show multiple genes/locations - e.g. \"CFTR|LOC11167447\".  For now, just take the fires\n",
    "\n",
    "def extract_first_genes(df_):\n",
    "    \"\"\" Return a list of genes, extracting only one (the first one) per row \"\"\"\n",
    "    nrows, ncolumns = df_.shape\n",
    "    all_genes = df_['Gene(s)']\n",
    "    single_genes = [g.split('|')[0] for g in all_genes]\n",
    "    assert len(single_genes) == nrows\n",
    "    return single_genes\n",
    "\n",
    "def test_extract_first_genes():\n",
    "    data = {'Gene(s)': ['GRN|LOC1234', 'CFTR'],\n",
    "            'Review Status':['None', 'None']}\n",
    "    df = pd.DataFrame(data)\n",
    "    genes = extract_first_genes(df)\n",
    "    print(genes)\n",
    "    assert len(genes) == 2\n",
    "    print(\"test_extract_first_genes: passed.\")\n",
    "    \n",
    "test_extract_first_genes()"
   ]
  },
  {
   "cell_type": "code",
   "execution_count": 4,
   "metadata": {},
   "outputs": [
    {
     "name": "stdout",
     "output_type": "stream",
     "text": [
      "['Pathogenic', 'Pathogenic', 'Benign']\n",
      "test_extract_significance: passed.\n"
     ]
    }
   ],
   "source": [
    "def extract_significance(df_):\n",
    "    \"\"\" Returns a list of significance strings, one for each row \"\"\"\n",
    "    nrows, ncolumns = df_.shape\n",
    "    sigs = df_['Clinical significance (Last reviewed)']\n",
    "    cleaned_sigs = [s.split('(')[0] for s in sigs]\n",
    "    return cleaned_sigs\n",
    "\n",
    "def test_extract_significance():\n",
    "    data = {'Gene(s)': ['GRN|LOC1234', 'CFTR', 'CTFR'],\n",
    "            'Clinical significance (Last reviewed)':\n",
    "                ['Pathogenic(12 May 2010)', 'Pathogenic(21 June 2015)', 'Benign']}\n",
    "    df = pd.DataFrame(data)\n",
    "    sigs = extract_significance(df)\n",
    "    assert len(sigs) == 3\n",
    "    assert len(set(sigs)) == 2\n",
    "    print(sigs)\n",
    "    print(\"test_extract_significance: passed.\")\n",
    "    \n",
    "test_extract_significance()\n",
    "    "
   ]
  },
  {
   "cell_type": "code",
   "execution_count": 5,
   "metadata": {},
   "outputs": [
    {
     "data": {
      "image/png": "[encoded data removed]",
      "text/plain": [
       "<Figure size 432x288 with 1 Axes>"
      ]
     },
     "metadata": {
      "needs_background": "light"
     },
     "output_type": "display_data"
    },
    {
     "data": {
      "image/png": "[encoded data removed]",
      "text/plain": [
       "<Figure size 432x288 with 1 Axes>"
      ]
     },
     "metadata": {
      "needs_background": "light"
     },
     "output_type": "display_data"
    },
    {
     "name": "stdout",
     "output_type": "stream",
     "text": [
      "test_plot_gene_histogram: passed.\n"
     ]
    }
   ],
   "source": [
    "def plot_gene_histogram(genes, logorlinear='linear'):\n",
    "    \"\"\" Given a list of gene names, plot a histogram of gene counts\"\"\"\n",
    "    assert logorlinear in ('log', 'linear')\n",
    "    gene_counts = Counter(genes)\n",
    "    gene_names = gene_counts.keys()\n",
    "    counts = gene_counts.values()\n",
    "    bar_pos = np.arange(len(gene_names))\n",
    "\n",
    "    plt.bar(gene_names, counts, align='center', alpha=0.5)\n",
    "    plt.xticks(bar_pos, gene_names)\n",
    "    plt.ylabel('Gene Counts')\n",
    "    plt.xticks(rotation='vertical')\n",
    "    plt.yscale(logorlinear)\n",
    "    plt.title('Clinvar Gene Hits')\n",
    "    plt.show()\n",
    "    \n",
    "def test_plot_gene_histogram():\n",
    "    test_genes = [\"GRN\", \"CFTR\", \"CFTR\"]\n",
    "    plot_gene_histogram(test_genes)\n",
    "    plot_gene_histogram(test_genes, 'log')\n",
    "    print(\"test_plot_gene_histogram: passed.\")\n",
    "    \n",
    "test_plot_gene_histogram()"
   ]
  },
  {
   "cell_type": "code",
   "execution_count": 6,
   "metadata": {},
   "outputs": [
    {
     "name": "stdout",
     "output_type": "stream",
     "text": [
      "[[1 1 1 0]\n",
      " [1 0 0 0]\n",
      " [1 0 0 1]]\n"
     ]
    },
    {
     "data": {
      "image/png": "[encoded data removed]",
      "text/plain": [
       "<Figure size 432x288 with 1 Axes>"
      ]
     },
     "metadata": {
      "needs_background": "light"
     },
     "output_type": "display_data"
    },
    {
     "name": "stdout",
     "output_type": "stream",
     "text": [
      "[[1 1 1 0]\n",
      " [1 0 0 0]\n",
      " [1 0 0 1]]\n",
      "{'CFTR', 'GRN', 'VOX1', 'VOX2'}\n",
      "{'Pathogenic', 'Unknown', 'Benign'}\n"
     ]
    }
   ],
   "source": [
    "def plot_gene_with_significance_histogram(genes, sigs, logorlinear='linear'):\n",
    "    \"\"\" Given a list of gene names and parallel list of significances, plot a histogram of gene counts\n",
    "    stacked by significance\"\"\"\n",
    "    assert logorlinear in ('log', 'linear')\n",
    "    \n",
    "    gene_sig_counts_zip = Counter(zip(genes, sigs))\n",
    "    \n",
    "    gene_set = set(genes)\n",
    "    sig_set = set(sigs)\n",
    "    \n",
    "    # We want a 2D array [sig_ix, gene_ix] of counts\n",
    "    sig_gene_counts = np.zeros((len(sig_set), len(gene_set)), dtype=int)\n",
    "    for gix, g in enumerate(gene_set):\n",
    "        for six, s in enumerate(sig_set):\n",
    "            sig_gene_counts[six, gix] = gene_sig_counts_zip[(g,s)]\n",
    "    \n",
    "    print(sig_gene_counts)\n",
    "    \n",
    "    gpos = np.arange(len(gene_set))\n",
    "    for six,s in enumerate(sig_set):\n",
    "        plt.bar(gpos, sig_gene_counts[six],\n",
    "            bottom = np.sum(sig_gene_counts[:six], axis = 0),\n",
    "            label=s)\n",
    "    plt.xticks(range(len(gene_set)), list(gene_set))\n",
    "    plt.xlabel(\"Genes\")\n",
    "    plt.yscale(logorlinear)\n",
    "    plt.legend(loc=\"best\")\n",
    "            \n",
    "    plt.show()\n",
    "    \n",
    "    return sig_gene_counts, gene_set, sig_set\n",
    "    \n",
    "            \n",
    "def test_plot_gene_with_significance_histogram():\n",
    "    test_genes = [\"GRN\", \"CFTR\", \"CFTR\", \"CFTR\", \"VOX1\", \"VOX2\"]\n",
    "    test_sigs = [\"Pathogenic\", \"Pathogenic\", \"Benign\", \"Unknown\", \"Pathogenic\", \"Benign\"]\n",
    "    sig_gene_counts, gene_set, sig_set = plot_gene_with_significance_histogram(test_genes, test_sigs)\n",
    "    print(sig_gene_counts)\n",
    "    print(gene_set)\n",
    "    print(sig_set)\n",
    "    \n",
    "test_plot_gene_with_significance_histogram()"
   ]
  },
  {
   "cell_type": "code",
   "execution_count": 7,
   "metadata": {},
   "outputs": [
    {
     "name": "stdout",
     "output_type": "stream",
     "text": [
      "[\n",
      "    {\n",
      "        \"name\": \"GRN\",\n",
      "        \"value\": 1\n",
      "    },\n",
      "    {\n",
      "        \"name\": \"CFTR\",\n",
      "        \"value\": 2\n",
      "    }\n",
      "]\n",
      "test_thing_hist_as_json: passed.\n"
     ]
    }
   ],
   "source": [
    "def thing_hist_as_json(thing_list):\n",
    "    \"\"\" Return a count histogram in a json format suitable for passing to Alison's front end.  Thing list is e.g.\n",
    "    a list of names \"\"\"\n",
    "    counts = Counter(thing_list)\n",
    "    jslist = [{'name':key, 'value':counts[key]} for key in counts.keys()]\n",
    "    return json.dumps(jslist, indent=4, sort_keys=True)\n",
    "    \n",
    "def test_thing_hist_as_json():\n",
    "    test_genes = [\"GRN\", \"CFTR\", \"CFTR\"]\n",
    "    json = thing_hist_as_json(test_genes)\n",
    "    print(json)\n",
    "    print(\"test_thing_hist_as_json: passed.\")\n",
    "    \n",
    "test_thing_hist_as_json()   "
   ]
  },
  {
   "cell_type": "code",
   "execution_count": 8,
   "metadata": {},
   "outputs": [
    {
     "name": "stdout",
     "output_type": "stream",
     "text": [
      "[{'value': [2.0, 1.0, 0.0], 'name': 'GA'}, {'value': [3.0, 2.0, 2.0], 'name': 'GB'}, {'value': [4.0, 3.0, 1.0], 'name': 'GC'}, {'value': [5.0, 4.0, 2.0], 'name': 'GD'}]\n",
      "[\n",
      "    {\n",
      "        \"name\": \"GA\",\n",
      "        \"value\": [\n",
      "            2.0,\n",
      "            1.0,\n",
      "            0.0\n",
      "        ]\n",
      "    },\n",
      "    {\n",
      "        \"name\": \"GB\",\n",
      "        \"value\": [\n",
      "            3.0,\n",
      "            2.0,\n",
      "            2.0\n",
      "        ]\n",
      "    },\n",
      "    {\n",
      "        \"name\": \"GC\",\n",
      "        \"value\": [\n",
      "            4.0,\n",
      "            3.0,\n",
      "            1.0\n",
      "        ]\n",
      "    },\n",
      "    {\n",
      "        \"name\": \"GD\",\n",
      "        \"value\": [\n",
      "            5.0,\n",
      "            4.0,\n",
      "            2.0\n",
      "        ]\n",
      "    }\n",
      "]\n"
     ]
    }
   ],
   "source": [
    "def stacked_things_counts_to_json(counts_table, bin_names, stack_names):\n",
    "    \"\"\" Counts table is indexed by [bin, stack] i.e. [gene, sig] \"\"\"\n",
    "    rows, cols = counts_table.shape\n",
    "    assert cols == len(bin_names)\n",
    "    assert rows == len(stack_names)\n",
    "    \n",
    "    f_table = np.asfarray(counts_table)  # json.dumps() only works with float arrays!\n",
    "    \n",
    "    jslist = [{'name': bin_names[i], 'value':list(f_table[:,i])} for i in range(len(bin_names))]\n",
    "    \n",
    "    print(jslist)\n",
    "    return json.dumps(jslist, indent=4, sort_keys=True)\n",
    "\n",
    "def test_stacked_things_counts_to_json():\n",
    "    counts_table = np.array([[2,3,4,5],\n",
    "                            [1,2,3,4],\n",
    "                            [0,2,1,2]])\n",
    "    print(stacked_things_counts_to_json(counts_table, \n",
    "                                        ['GA', 'GB', 'GC', 'GD'], \n",
    "                                        ['Benign', 'Unknown', 'Pathological']))\n",
    "          \n",
    "test_stacked_things_counts_to_json()\n",
    "\n"
   ]
  },
  {
   "cell_type": "code",
   "execution_count": 10,
   "metadata": {
    "scrolled": false
   },
   "outputs": [
    {
     "name": "stdout",
     "output_type": "stream",
     "text": [
      "Loading clinvar spreadsheet...\n"
     ]
    },
    {
     "data": {
      "image/png": "[encoded data removed]",
      "text/plain": [
       "<Figure size 432x288 with 1 Axes>"
      ]
     },
     "metadata": {
      "needs_background": "light"
     },
     "output_type": "display_data"
    },
    {
     "name": "stdout",
     "output_type": "stream",
     "text": [
      "[[  0   0   0   0   0   0   0   0   0   6   0   0]\n",
      " [  0   0   0   0   0   0   0   0  55 311   0   0]\n",
      " [  4   2   1   1   1   5  11   1  46 417   1   1]\n",
      " [  0   0   0   0   0   0   0   0   8  15   0   0]\n",
      " [  1   0   0   0   0   0   0   0   8 145   0   0]\n",
      " [  0   0   0   0   0   0   0   0   1  16   0   0]\n",
      " [  0   0   0   0   0   0   0   0   0  15   0   0]\n",
      " [  0   0   0   0   0   0   0   0   0  10   0   0]\n",
      " [  0   0   0   0   0   0   0   0   0   1   0   0]\n",
      " [  0   0   0   0   0   0   0   0   0   2   0   0]\n",
      " [  0   0   0   0   0   0   0   0  12  19   0   0]\n",
      " [  0   0   0   0   0   0   0   0   3  98   0   0]\n",
      " [  0   0   0   0   0   0   0   0  11  54   0   0]\n",
      " [  2   0   0   0   0   0   0   0  46 564   0   0]]\n"
     ]
    },
    {
     "data": {
      "image/png": "[encoded data removed]",
      "text/plain": [
       "<Figure size 1440x1440 with 1 Axes>"
      ]
     },
     "metadata": {
      "needs_background": "light"
     },
     "output_type": "display_data"
    },
    {
     "name": "stdout",
     "output_type": "stream",
     "text": [
      "[\n",
      "    {\n",
      "        \"name\": \"CAPZA2\",\n",
      "        \"value\": 7\n",
      "    },\n",
      "    {\n",
      "        \"name\": \"ACACA\",\n",
      "        \"value\": 2\n",
      "    },\n",
      "    {\n",
      "        \"name\": \"ARF5\",\n",
      "        \"value\": 1\n",
      "    },\n",
      "    {\n",
      "        \"name\": \"ACHE\",\n",
      "        \"value\": 1\n",
      "    },\n",
      "    {\n",
      "        \"name\": \"DUSP3\",\n",
      "        \"value\": 1\n",
      "    },\n",
      "    {\n",
      "        \"name\": \"AANAT\",\n",
      "        \"value\": 5\n",
      "    },\n",
      "    {\n",
      "        \"name\": \"AOC1\",\n",
      "        \"value\": 11\n",
      "    },\n",
      "    {\n",
      "        \"name\": \"ACLY\",\n",
      "        \"value\": 1\n",
      "    },\n",
      "    {\n",
      "        \"name\": \"GRN\",\n",
      "        \"value\": 190\n",
      "    },\n",
      "    {\n",
      "        \"name\": \"CFTR\",\n",
      "        \"value\": 1673\n",
      "    },\n",
      "    {\n",
      "        \"name\": \"FZD2\",\n",
      "        \"value\": 1\n",
      "    },\n",
      "    {\n",
      "        \"name\": \"AKR1B1\",\n",
      "        \"value\": 1\n",
      "    }\n",
      "]\n",
      "[[  0   0   0   0   0   0   0   0   0   6   0   0]\n",
      " [  0   0   0   0   0   0   0   0  55 311   0   0]\n",
      " [  4   2   1   1   1   5  11   1  46 417   1   1]\n",
      " [  0   0   0   0   0   0   0   0   8  15   0   0]\n",
      " [  1   0   0   0   0   0   0   0   8 145   0   0]\n",
      " [  0   0   0   0   0   0   0   0   1  16   0   0]\n",
      " [  0   0   0   0   0   0   0   0   0  15   0   0]\n",
      " [  0   0   0   0   0   0   0   0   0  10   0   0]\n",
      " [  0   0   0   0   0   0   0   0   0   1   0   0]\n",
      " [  0   0   0   0   0   0   0   0   0   2   0   0]\n",
      " [  0   0   0   0   0   0   0   0  12  19   0   0]\n",
      " [  0   0   0   0   0   0   0   0   3  98   0   0]\n",
      " [  0   0   0   0   0   0   0   0  11  54   0   0]\n",
      " [  2   0   0   0   0   0   0   0  46 564   0   0]]\n"
     ]
    },
    {
     "data": {
      "image/png": "[encoded data removed]",
      "text/plain": [
       "<Figure size 432x288 with 1 Axes>"
      ]
     },
     "metadata": {
      "needs_background": "light"
     },
     "output_type": "display_data"
    },
    {
     "name": "stdout",
     "output_type": "stream",
     "text": [
      "[{'value': [0.0, 0.0, 4.0, 0.0, 1.0, 0.0, 0.0, 0.0, 0.0, 0.0, 0.0, 0.0, 0.0, 2.0], 'name': 'CAPZA2'}, {'value': [0.0, 0.0, 2.0, 0.0, 0.0, 0.0, 0.0, 0.0, 0.0, 0.0, 0.0, 0.0, 0.0, 0.0], 'name': 'ACACA'}, {'value': [0.0, 0.0, 1.0, 0.0, 0.0, 0.0, 0.0, 0.0, 0.0, 0.0, 0.0, 0.0, 0.0, 0.0], 'name': 'ARF5'}, {'value': [0.0, 0.0, 1.0, 0.0, 0.0, 0.0, 0.0, 0.0, 0.0, 0.0, 0.0, 0.0, 0.0, 0.0], 'name': 'ACHE'}, {'value': [0.0, 0.0, 1.0, 0.0, 0.0, 0.0, 0.0, 0.0, 0.0, 0.0, 0.0, 0.0, 0.0, 0.0], 'name': 'DUSP3'}, {'value': [0.0, 0.0, 5.0, 0.0, 0.0, 0.0, 0.0, 0.0, 0.0, 0.0, 0.0, 0.0, 0.0, 0.0], 'name': 'AANAT'}, {'value': [0.0, 0.0, 11.0, 0.0, 0.0, 0.0, 0.0, 0.0, 0.0, 0.0, 0.0, 0.0, 0.0, 0.0], 'name': 'AOC1'}, {'value': [0.0, 0.0, 1.0, 0.0, 0.0, 0.0, 0.0, 0.0, 0.0, 0.0, 0.0, 0.0, 0.0, 0.0], 'name': 'ACLY'}, {'value': [0.0, 55.0, 46.0, 8.0, 8.0, 1.0, 0.0, 0.0, 0.0, 0.0, 12.0, 3.0, 11.0, 46.0], 'name': 'GRN'}, {'value': [6.0, 311.0, 417.0, 15.0, 145.0, 16.0, 15.0, 10.0, 1.0, 2.0, 19.0, 98.0, 54.0, 564.0], 'name': 'CFTR'}, {'value': [0.0, 0.0, 1.0, 0.0, 0.0, 0.0, 0.0, 0.0, 0.0, 0.0, 0.0, 0.0, 0.0, 0.0], 'name': 'FZD2'}, {'value': [0.0, 0.0, 1.0, 0.0, 0.0, 0.0, 0.0, 0.0, 0.0, 0.0, 0.0, 0.0, 0.0, 0.0], 'name': 'AKR1B1'}]\n",
      "[\n",
      "    {\n",
      "        \"name\": \"CAPZA2\",\n",
      "        \"value\": [\n",
      "            0.0,\n",
      "            0.0,\n",
      "            4.0,\n",
      "            0.0,\n",
      "            1.0,\n",
      "            0.0,\n",
      "            0.0,\n",
      "            0.0,\n",
      "            0.0,\n",
      "            0.0,\n",
      "            0.0,\n",
      "            0.0,\n",
      "            0.0,\n",
      "            2.0\n",
      "        ]\n",
      "    },\n",
      "    {\n",
      "        \"name\": \"ACACA\",\n",
      "        \"value\": [\n",
      "            0.0,\n",
      "            0.0,\n",
      "            2.0,\n",
      "            0.0,\n",
      "            0.0,\n",
      "            0.0,\n",
      "            0.0,\n",
      "            0.0,\n",
      "            0.0,\n",
      "            0.0,\n",
      "            0.0,\n",
      "            0.0,\n",
      "            0.0,\n",
      "            0.0\n",
      "        ]\n",
      "    },\n",
      "    {\n",
      "        \"name\": \"ARF5\",\n",
      "        \"value\": [\n",
      "            0.0,\n",
      "            0.0,\n",
      "            1.0,\n",
      "            0.0,\n",
      "            0.0,\n",
      "            0.0,\n",
      "            0.0,\n",
      "            0.0,\n",
      "            0.0,\n",
      "            0.0,\n",
      "            0.0,\n",
      "            0.0,\n",
      "            0.0,\n",
      "            0.0\n",
      "        ]\n",
      "    },\n",
      "    {\n",
      "        \"name\": \"ACHE\",\n",
      "        \"value\": [\n",
      "            0.0,\n",
      "            0.0,\n",
      "            1.0,\n",
      "            0.0,\n",
      "            0.0,\n",
      "            0.0,\n",
      "            0.0,\n",
      "            0.0,\n",
      "            0.0,\n",
      "            0.0,\n",
      "            0.0,\n",
      "            0.0,\n",
      "            0.0,\n",
      "            0.0\n",
      "        ]\n",
      "    },\n",
      "    {\n",
      "        \"name\": \"DUSP3\",\n",
      "        \"value\": [\n",
      "            0.0,\n",
      "            0.0,\n",
      "            1.0,\n",
      "            0.0,\n",
      "            0.0,\n",
      "            0.0,\n",
      "            0.0,\n",
      "            0.0,\n",
      "            0.0,\n",
      "            0.0,\n",
      "            0.0,\n",
      "            0.0,\n",
      "            0.0,\n",
      "            0.0\n",
      "        ]\n",
      "    },\n",
      "    {\n",
      "        \"name\": \"AANAT\",\n",
      "        \"value\": [\n",
      "            0.0,\n",
      "            0.0,\n",
      "            5.0,\n",
      "            0.0,\n",
      "            0.0,\n",
      "            0.0,\n",
      "            0.0,\n",
      "            0.0,\n",
      "            0.0,\n",
      "            0.0,\n",
      "            0.0,\n",
      "            0.0,\n",
      "            0.0,\n",
      "            0.0\n",
      "        ]\n",
      "    },\n",
      "    {\n",
      "        \"name\": \"AOC1\",\n",
      "        \"value\": [\n",
      "            0.0,\n",
      "            0.0,\n",
      "            11.0,\n",
      "            0.0,\n",
      "            0.0,\n",
      "            0.0,\n",
      "            0.0,\n",
      "            0.0,\n",
      "            0.0,\n",
      "            0.0,\n",
      "            0.0,\n",
      "            0.0,\n",
      "            0.0,\n",
      "            0.0\n",
      "        ]\n",
      "    },\n",
      "    {\n",
      "        \"name\": \"ACLY\",\n",
      "        \"value\": [\n",
      "            0.0,\n",
      "            0.0,\n",
      "            1.0,\n",
      "            0.0,\n",
      "            0.0,\n",
      "            0.0,\n",
      "            0.0,\n",
      "            0.0,\n",
      "            0.0,\n",
      "            0.0,\n",
      "            0.0,\n",
      "            0.0,\n",
      "            0.0,\n",
      "            0.0\n",
      "        ]\n",
      "    },\n",
      "    {\n",
      "        \"name\": \"GRN\",\n",
      "        \"value\": [\n",
      "            0.0,\n",
      "            55.0,\n",
      "            46.0,\n",
      "            8.0,\n",
      "            8.0,\n",
      "            1.0,\n",
      "            0.0,\n",
      "            0.0,\n",
      "            0.0,\n",
      "            0.0,\n",
      "            12.0,\n",
      "            3.0,\n",
      "            11.0,\n",
      "            46.0\n",
      "        ]\n",
      "    },\n",
      "    {\n",
      "        \"name\": \"CFTR\",\n",
      "        \"value\": [\n",
      "            6.0,\n",
      "            311.0,\n",
      "            417.0,\n",
      "            15.0,\n",
      "            145.0,\n",
      "            16.0,\n",
      "            15.0,\n",
      "            10.0,\n",
      "            1.0,\n",
      "            2.0,\n",
      "            19.0,\n",
      "            98.0,\n",
      "            54.0,\n",
      "            564.0\n",
      "        ]\n",
      "    },\n",
      "    {\n",
      "        \"name\": \"FZD2\",\n",
      "        \"value\": [\n",
      "            0.0,\n",
      "            0.0,\n",
      "            1.0,\n",
      "            0.0,\n",
      "            0.0,\n",
      "            0.0,\n",
      "            0.0,\n",
      "            0.0,\n",
      "            0.0,\n",
      "            0.0,\n",
      "            0.0,\n",
      "            0.0,\n",
      "            0.0,\n",
      "            0.0\n",
      "        ]\n",
      "    },\n",
      "    {\n",
      "        \"name\": \"AKR1B1\",\n",
      "        \"value\": [\n",
      "            0.0,\n",
      "            0.0,\n",
      "            1.0,\n",
      "            0.0,\n",
      "            0.0,\n",
      "            0.0,\n",
      "            0.0,\n",
      "            0.0,\n",
      "            0.0,\n",
      "            0.0,\n",
      "            0.0,\n",
      "            0.0,\n",
      "            0.0,\n",
      "            0.0\n",
      "        ]\n",
      "    }\n",
      "]\n"
     ]
    }
   ],
   "source": [
    "def main():\n",
    "    print(\"Loading clinvar spreadsheet...\")\n",
    "    download_fname = 'clinvar_GRN_OR_CFTR.txt'\n",
    "    # download_fname = 'clinvar_epilepsy_11_panel.txt'\n",
    "    df = pd.read_csv(download_fname, sep='\\t')\n",
    "    # print(df.describe(include='all'))\n",
    "    \n",
    "    genes = extract_first_genes(df)\n",
    "    sigs = extract_significance(df)\n",
    "    \n",
    "    plot_gene_histogram(genes, 'log')\n",
    "    \n",
    "    plt.figure(figsize=(20,20))\n",
    "    plot_gene_with_significance_histogram(genes, sigs, 'linear')\n",
    "    \n",
    "    json1 = thing_hist_as_json(genes)\n",
    "    print(json1)\n",
    "    jsonfile1 = open(\"clinvar_epilepsy_11_panel.json\", 'w')\n",
    "    jsonfile1.write(json1)\n",
    "    jsonfile1.close()\n",
    "    \n",
    "    sig_gene_counts, gene_set, sig_set = plot_gene_with_significance_histogram(genes, sigs)\n",
    "    \n",
    "    json2 = stacked_things_counts_to_json(sig_gene_counts, list(gene_set), list(sig_set))\n",
    "    print(json2)\n",
    "    jsonfile2 = open(\"stacked_clinvar_epilepsy_11_panel.json\", 'w')\n",
    "    jsonfile2.write(json2)\n",
    "    jsonfile2.close()\n",
    "    \n",
    "    \n",
    "\n",
    "main()"
   ]
  },
  {
   "cell_type": "code",
   "execution_count": null,
   "metadata": {},
   "outputs": [],
   "source": []
  }
 ],
 "metadata": {
  "kernelspec": {
   "display_name": "Python 3",
   "language": "python",
   "name": "python3"
  },
  "language_info": {
   "codemirror_mode": {
    "name": "ipython",
    "version": 3
   },
   "file_extension": ".py",
   "mimetype": "text/x-python",
   "name": "python",
   "nbconvert_exporter": "python",
   "pygments_lexer": "ipython3",
   "version": "3.5.2"
  }
 },
 "nbformat": 4,
 "nbformat_minor": 2
}
