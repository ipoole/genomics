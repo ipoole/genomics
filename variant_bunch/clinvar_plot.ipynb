{
 "cells": [
  {
   "cell_type": "markdown",
   "metadata": {},
   "source": [
    "# Product Force - The Variant Bunch\n",
    "February 22nd 2019\n",
    "\n",
    "Lets readf in a ClinVar download, plot some histograms."
   ]
  },
  {
   "cell_type": "code",
   "execution_count": 1,
   "metadata": {},
   "outputs": [],
   "source": [
    "import pandas as pd\n",
    "import numpy as np\n",
    "from collections import Counter\n",
    "import json"
   ]
  },
  {
   "cell_type": "code",
   "execution_count": 2,
   "metadata": {},
   "outputs": [],
   "source": [
    "import matplotlib.pyplot as plt\n",
    "%matplotlib inline"
   ]
  },
  {
   "cell_type": "code",
   "execution_count": 3,
   "metadata": {},
   "outputs": [
    {
     "name": "stdout",
     "output_type": "stream",
     "text": [
      "['GRN', 'CFTR']\n",
      "test_extract_first_genes: passed.\n"
     ]
    }
   ],
   "source": [
    "# Extract genes column.   Some show multiple genes/locations - e.g. \"CFTR|LOC11167447\".  For now, just take the fires\n",
    "\n",
    "def extract_first_genes(df_):\n",
    "    \"\"\" Return a list of genes, extracting only one (the first one) per row \"\"\"\n",
    "    nrows, ncolumns = df_.shape\n",
    "    all_genes = df_['Gene(s)']\n",
    "    pruned_genes = [g.split('|')[0] for g in all_genes]\n",
    "    assert len(pruned_genes) == nrows\n",
    "    return pruned_genes\n",
    "\n",
    "def test_extract_first_genes():\n",
    "    data = {'Gene(s)': ['GRN|LOC1234', 'CFTR'],\n",
    "            'Review Status':['None', 'None']}\n",
    "    df = pd.DataFrame(data)\n",
    "    genes = extract_first_genes(df)\n",
    "    print(genes)\n",
    "    assert len(genes) == 2\n",
    "    print(\"test_extract_first_genes: passed.\")\n",
    "    \n",
    "test_extract_first_genes()"
   ]
  },
  {
   "cell_type": "code",
   "execution_count": 4,
   "metadata": {},
   "outputs": [
    {
     "data": {
      "image/png": "[encoded data removed]",
      "text/plain": [
       "<Figure size 432x288 with 1 Axes>"
      ]
     },
     "metadata": {
      "needs_background": "light"
     },
     "output_type": "display_data"
    },
    {
     "data": {
      "image/png": "[encoded data removed]",
      "text/plain": [
       "<Figure size 432x288 with 1 Axes>"
      ]
     },
     "metadata": {
      "needs_background": "light"
     },
     "output_type": "display_data"
    }
   ],
   "source": [
    "def plot_gene_histogram(genes, logorlinear='linear'):\n",
    "    \"\"\" Given a list of gene names, plot a histogram of gene counts\"\"\"\n",
    "    assert logorlinear in ('log', 'linear')\n",
    "    gene_counts = Counter(genes)\n",
    "    gene_names = gene_counts.keys()\n",
    "    counts = gene_counts.values()\n",
    "    bar_pos = np.arange(len(gene_names))\n",
    "\n",
    "    plt.bar(gene_names, counts, align='center', alpha=0.5)\n",
    "    plt.xticks(bar_pos, gene_names)\n",
    "    plt.ylabel('Gene Counts')\n",
    "    plt.xticks(rotation='vertical')\n",
    "    plt.yscale(logorlinear)\n",
    "    plt.title('Clinvar Gene Hits')\n",
    "    plt.show()\n",
    "    \n",
    "def test_plot_gene_histogram():\n",
    "    test_genes = [\"GRN\", \"CFTR\", \"CFTR\"]\n",
    "    plot_gene_histogram(test_genes)\n",
    "    plot_gene_histogram(test_genes, 'log')\n",
    "    \n",
    "    \n",
    "test_plot_gene_histogram()"
   ]
  },
  {
   "cell_type": "code",
   "execution_count": 5,
   "metadata": {},
   "outputs": [
    {
     "name": "stdout",
     "output_type": "stream",
     "text": [
      "[\n",
      "    {\n",
      "        \"name\": \"CFTR\",\n",
      "        \"value\": 2\n",
      "    },\n",
      "    {\n",
      "        \"name\": \"GRN\",\n",
      "        \"value\": 1\n",
      "    }\n",
      "]\n"
     ]
    }
   ],
   "source": [
    "def thing_hist_as_json(thing_list):\n",
    "    \"\"\" Return a count histogram in a json format suitable for passing to Alison's front end.  Thing list is e.g.\n",
    "    a list of names \"\"\"\n",
    "    counts = Counter(thing_list)\n",
    "    jslist = [{'name':key, 'value':counts[key]} for key in counts.keys()]\n",
    "    return json.dumps(jslist, indent=4, sort_keys=True)\n",
    "    \n",
    "def test_thing_hist_as_json():\n",
    "    test_genes = [\"GRN\", \"CFTR\", \"CFTR\"]\n",
    "    json = thing_hist_as_json(test_genes)\n",
    "    print(json)\n",
    "    \n",
    "test_thing_hist_as_json()   "
   ]
  },
  {
   "cell_type": "code",
   "execution_count": 6,
   "metadata": {},
   "outputs": [
    {
     "name": "stdout",
     "output_type": "stream",
     "text": [
      "Loading clinvar spreadsheet...\n"
     ]
    },
    {
     "data": {
      "image/png": "[encoded data removed]",
      "text/plain": [
       "<Figure size 432x288 with 1 Axes>"
      ]
     },
     "metadata": {
      "needs_background": "light"
     },
     "output_type": "display_data"
    },
    {
     "name": "stdout",
     "output_type": "stream",
     "text": [
      "[\n",
      "    {\n",
      "        \"name\": \"CFTR\",\n",
      "        \"value\": 1673\n",
      "    },\n",
      "    {\n",
      "        \"name\": \"FZD2\",\n",
      "        \"value\": 1\n",
      "    },\n",
      "    {\n",
      "        \"name\": \"AOC1\",\n",
      "        \"value\": 11\n",
      "    },\n",
      "    {\n",
      "        \"name\": \"ACACA\",\n",
      "        \"value\": 2\n",
      "    },\n",
      "    {\n",
      "        \"name\": \"AANAT\",\n",
      "        \"value\": 5\n",
      "    },\n",
      "    {\n",
      "        \"name\": \"CAPZA2\",\n",
      "        \"value\": 7\n",
      "    },\n",
      "    {\n",
      "        \"name\": \"ARF5\",\n",
      "        \"value\": 1\n",
      "    },\n",
      "    {\n",
      "        \"name\": \"ACHE\",\n",
      "        \"value\": 1\n",
      "    },\n",
      "    {\n",
      "        \"name\": \"DUSP3\",\n",
      "        \"value\": 1\n",
      "    },\n",
      "    {\n",
      "        \"name\": \"GRN\",\n",
      "        \"value\": 190\n",
      "    },\n",
      "    {\n",
      "        \"name\": \"AKR1B1\",\n",
      "        \"value\": 1\n",
      "    },\n",
      "    {\n",
      "        \"name\": \"ACLY\",\n",
      "        \"value\": 1\n",
      "    }\n",
      "]\n"
     ]
    }
   ],
   "source": [
    "def main():\n",
    "    print(\"Loading clinvar spreadsheet...\")\n",
    "    download_fname = 'clinvar_GRN_OR_CFTR.txt'\n",
    "    df = pd.read_csv(download_fname, sep='\\t')\n",
    "    df.describe(include='all')\n",
    "    \n",
    "    genes = extract_first_genes(df)\n",
    "    \n",
    "    plot_gene_histogram(genes, 'log')\n",
    "    \n",
    "    json = thing_hist_as_json(genes)\n",
    "    print(json)\n",
    "\n",
    "main()"
   ]
  }
 ],
 "metadata": {
  "kernelspec": {
   "display_name": "Python 3",
   "language": "python",
   "name": "python3"
  },
  "language_info": {
   "codemirror_mode": {
    "name": "ipython",
    "version": 3
   },
   "file_extension": ".py",
   "mimetype": "text/x-python",
   "name": "python",
   "nbconvert_exporter": "python",
   "pygments_lexer": "ipython3",
   "version": "3.5.2"
  }
 },
 "nbformat": 4,
 "nbformat_minor": 2
}
